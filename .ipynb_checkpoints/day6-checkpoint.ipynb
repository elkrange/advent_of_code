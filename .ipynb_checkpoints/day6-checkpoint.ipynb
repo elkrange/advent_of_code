{
 "cells": [
  {
   "cell_type": "code",
   "execution_count": 15,
   "id": "f83b07be",
   "metadata": {},
   "outputs": [],
   "source": [
    "import numpy as np\n",
    "from collections import Counter"
   ]
  },
  {
   "cell_type": "code",
   "execution_count": 16,
   "id": "edb6f837",
   "metadata": {},
   "outputs": [],
   "source": [
    "test_data = \"3,4,3,1,2\"\n",
    "data = \"1,4,1,1,1,1,5,1,1,5,1,4,2,5,1,2,3,1,1,1,1,5,4,2,1,1,3,1,1,1,1,1,1,1,2,1,1,1,1,1,5,1,1,1,1,1,1,1,1,1,4,1,1,1,1,5,1,4,1,1,4,1,1,1,1,4,1,1,5,5,1,1,1,4,1,1,1,1,1,3,2,1,1,1,1,1,2,3,1,1,2,1,1,1,3,1,1,1,2,1,2,1,1,2,1,1,3,1,1,1,3,3,5,1,4,1,1,5,1,1,4,1,5,3,3,5,1,1,1,4,1,1,1,1,1,1,5,5,1,1,4,1,2,1,1,1,1,2,2,2,1,1,2,2,4,1,1,1,1,3,1,2,3,4,1,1,1,4,4,1,1,1,1,1,1,1,4,2,5,2,1,1,4,1,1,5,1,1,5,1,5,5,1,3,5,1,1,5,1,1,2,2,1,1,1,1,1,1,1,4,3,1,1,4,1,4,1,1,1,1,4,1,4,4,4,3,1,1,3,2,1,1,1,1,1,1,1,4,1,3,1,1,1,1,1,1,1,5,2,4,2,1,4,4,1,5,1,1,3,1,3,1,1,1,1,1,4,2,3,2,1,1,2,1,5,2,1,1,4,1,4,1,1,1,4,4,1,1,1,1,1,1,4,1,1,1,2,1,1,2\""
   ]
  },
  {
   "cell_type": "code",
   "execution_count": 60,
   "id": "7544d83a",
   "metadata": {},
   "outputs": [],
   "source": [
    "initial_state = np.array(list(map(int, data.split(','))))\n",
    "\n",
    "initial_counter = Counter(initial_state)\n",
    "days = 256\n",
    "fish_cnt = np.zeros(9, dtype=int)\n",
    "for key in range(len(fish_cnt)):\n",
    "    fish_cnt[key] = initial_counter[key]"
   ]
  },
  {
   "cell_type": "code",
   "execution_count": 61,
   "id": "7ebdaf4e",
   "metadata": {},
   "outputs": [
    {
     "name": "stdout",
     "output_type": "stream",
     "text": [
      "Total fish: 1728611055389\n"
     ]
    }
   ],
   "source": [
    "cnt = fish_cnt\n",
    "for day in range(days):\n",
    "    # get fish spawning\n",
    "    new_fish = cnt[0]\n",
    "    # shift fish\n",
    "    cnt = cnt[1:]\n",
    "    # add new fish\n",
    "    cnt = np.append(cnt, new_fish)\n",
    "    # update reset fish\n",
    "    cnt[6] += new_fish\n",
    "print(f\"Total fish: {cnt.sum()}\")"
   ]
  },
  {
   "cell_type": "code",
   "execution_count": 49,
   "id": "a8dd3245",
   "metadata": {},
   "outputs": [
    {
     "name": "stdout",
     "output_type": "stream",
     "text": [
      "Initial state: 3,4,3,1,2\n",
      "0 5\n",
      "After 1 day: 2,3,2,0,1\n",
      "1 6\n",
      "After 2 day: 1,2,1,6,0,8\n",
      "2 7\n",
      "After 3 day: 0,1,0,5,6,7,8\n",
      "3 9\n",
      "After 4 day: 6,0,6,4,5,6,7,8,8\n",
      "4 10\n",
      "After 5 day: 5,6,5,3,4,5,6,7,7,8\n",
      "5 10\n",
      "After 6 day: 4,5,4,2,3,4,5,6,6,7\n",
      "6 10\n",
      "After 7 day: 3,4,3,1,2,3,4,5,5,6\n",
      "7 10\n",
      "After 8 day: 2,3,2,0,1,2,3,4,4,5\n",
      "8 11\n",
      "After 9 day: 1,2,1,6,0,1,2,3,3,4,8\n",
      "9 12\n",
      "After 10 day: 0,1,0,5,6,0,1,2,2,3,7,8\n",
      "10 15\n",
      "After 11 day: 6,0,6,4,5,6,0,1,1,2,6,7,8,8,8\n",
      "11 17\n",
      "After 12 day: 5,6,5,3,4,5,6,0,0,1,5,6,7,7,7,8,8\n",
      "12 19\n",
      "After 13 day: 4,5,4,2,3,4,5,6,6,0,4,5,6,6,6,7,7,8,8\n",
      "13 20\n",
      "After 14 day: 3,4,3,1,2,3,4,5,5,6,3,4,5,5,5,6,6,7,7,8\n",
      "14 20\n",
      "After 15 day: 2,3,2,0,1,2,3,4,4,5,2,3,4,4,4,5,5,6,6,7\n",
      "15 21\n",
      "After 16 day: 1,2,1,6,0,1,2,3,3,4,1,2,3,3,3,4,4,5,5,6,8\n",
      "16 22\n",
      "After 17 day: 0,1,0,5,6,0,1,2,2,3,0,1,2,2,2,3,3,4,4,5,7,8\n",
      "17 26\n",
      "After 18 day: 6,0,6,4,5,6,0,1,1,2,6,0,1,1,1,2,2,3,3,4,6,7,8,8,8,8\n",
      "26\n"
     ]
    }
   ],
   "source": [
    "print(f\"Initial state: {','.join(map(str, initial_state))}\")\n",
    "state = initial_state\n",
    "for day in range(days):\n",
    "    # increment counters\n",
    "    state = state - 1\n",
    "    print(f\"After {day+1} day: {','.join(map(str, state))}\")\n",
    "    # determine if any counters got to zero\n",
    "    spawning_fish = np.where(state == 0)\n",
    "    spawning_fish_pos = spawning_fish[0]\n",
    "    if (num_spawning_fish := len(spawning_fish_pos))>0:\n",
    "        # reset zero timers\n",
    "        state[spawning_fish_pos] = 7\n",
    "        # add fish\n",
    "        state = np.append(state, np.full(num_spawning_fish, 9))\n",
    "print(state.size - num_spawning_fish)"
   ]
  },
  {
   "cell_type": "code",
   "execution_count": null,
   "id": "3afe79fb",
   "metadata": {},
   "outputs": [],
   "source": []
  }
 ],
 "metadata": {
  "kernelspec": {
   "display_name": "Python 3 (ipykernel)",
   "language": "python",
   "name": "python3"
  },
  "language_info": {
   "codemirror_mode": {
    "name": "ipython",
    "version": 3
   },
   "file_extension": ".py",
   "mimetype": "text/x-python",
   "name": "python",
   "nbconvert_exporter": "python",
   "pygments_lexer": "ipython3",
   "version": "3.10.1"
  }
 },
 "nbformat": 4,
 "nbformat_minor": 5
}
