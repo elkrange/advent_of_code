{
 "cells": [
  {
   "cell_type": "code",
   "execution_count": null,
   "id": "10f8788b",
   "metadata": {},
   "outputs": [],
   "source": [
    "from collections import deque\n",
    "import numpy as np"
   ]
  },
  {
   "cell_type": "code",
   "execution_count": null,
   "id": "e953b62e",
   "metadata": {},
   "outputs": [],
   "source": [
    "example_1_input = \"\"\"\n",
    "start-A\n",
    "start-b\n",
    "A-c\n",
    "A-b\n",
    "b-d\n",
    "A-end\n",
    "b-end\n",
    "\"\"\""
   ]
  },
  {
   "cell_type": "code",
   "execution_count": null,
   "id": "79e88838",
   "metadata": {},
   "outputs": [],
   "source": [
    "paths = {}\n",
    "for path in example_1_input.split():\n",
    "    start, end = path.split(\"-\")\n",
    "    if start not in paths.keys():\n",
    "        paths[start] = [\n",
    "            end,\n",
    "        ]\n",
    "    else:\n",
    "        paths[start].append(end)\n",
    "    if end not in paths.keys():\n",
    "        paths[end] = [\n",
    "            start,\n",
    "        ]\n",
    "    else:\n",
    "        paths[end].append(start)\n",
    "\n",
    "\n",
    "paths"
   ]
  },
  {
   "cell_type": "code",
   "execution_count": null,
   "id": "e51e700a",
   "metadata": {},
   "outputs": [],
   "source": [
    "complete_paths = set()\n",
    "sequence = deque()\n",
    "orig = \"start\"\n",
    "# add the starting point to the sequence q\n",
    "sequence.append(orig)\n",
    "# move to the other end of the path\n",
    "dest = paths[\"start\"][0]\n",
    "sequence.append(dest)\n",
    "# check next path\n",
    "dests = deque(paths[dest])\n",
    "while len(dests) > 0:\n",
    "    d = dests.pop()\n",
    "    if d == \"end\":\n",
    "        # this is a route to the end\n",
    "        sequence.append(d)\n",
    "        complete_paths.add(list(sequence))\n",
    "        break\n",
    "    elif d.islower() and d not in sequence:\n",
    "        # proceed as small cave has not been visited\n",
    "        sequence.append(d)\n",
    "\n",
    "        break\n",
    "    elif d.isupper():\n",
    "        # proceed as it is a big cave\n",
    "        sequence.append(d)\n",
    "        break\n",
    "    else:\n",
    "        # this is a dead end, backtrack\n",
    "        continue\n",
    "sequence\n",
    "print(complete_paths)"
   ]
  },
  {
   "cell_type": "code",
   "execution_count": null,
   "id": "f700e0ae",
   "metadata": {},
   "outputs": [],
   "source": []
  }
 ],
 "metadata": {
  "kernelspec": {
   "display_name": "Python 3 (ipykernel)",
   "language": "python",
   "name": "python3"
  },
  "language_info": {
   "codemirror_mode": {
    "name": "ipython",
    "version": 3
   },
   "file_extension": ".py",
   "mimetype": "text/x-python",
   "name": "python",
   "nbconvert_exporter": "python",
   "pygments_lexer": "ipython3",
   "version": "3.10.1"
  }
 },
 "nbformat": 4,
 "nbformat_minor": 5
}
