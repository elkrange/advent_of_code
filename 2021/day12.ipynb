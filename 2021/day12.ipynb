{
 "cells": [
  {
   "cell_type": "code",
   "execution_count": 2,
   "id": "10f8788b",
   "metadata": {},
   "outputs": [],
   "source": [
    "from collections import deque\n",
    "import numpy as np"
   ]
  },
  {
   "cell_type": "code",
   "execution_count": 25,
   "id": "e953b62e",
   "metadata": {},
   "outputs": [],
   "source": [
    "example_1_input = \"\"\"\n",
    "start-A\n",
    "start-b\n",
    "A-c\n",
    "A-b\n",
    "b-d\n",
    "A-end\n",
    "b-end\n",
    "\"\"\""
   ]
  },
  {
   "cell_type": "code",
   "execution_count": 34,
   "id": "79e88838",
   "metadata": {},
   "outputs": [
    {
     "data": {
      "text/plain": [
       "{'start': ['A', 'b'],\n",
       " 'A': ['start', 'c', 'b', 'end'],\n",
       " 'b': ['start', 'A', 'd', 'end'],\n",
       " 'c': ['A'],\n",
       " 'd': ['b'],\n",
       " 'end': ['A', 'b']}"
      ]
     },
     "execution_count": 34,
     "metadata": {},
     "output_type": "execute_result"
    }
   ],
   "source": [
    "paths = {}\n",
    "for path in example_1_input.split():\n",
    "    start, end = path.split('-')\n",
    "    if start not in paths.keys():\n",
    "        paths[start] = [end,]\n",
    "    else:\n",
    "        paths[start].append(end)\n",
    "    if end not in paths.keys():\n",
    "        paths[end] = [start,]\n",
    "    else:\n",
    "        paths[end].append(start)\n",
    "\n",
    "        \n",
    "paths"
   ]
  },
  {
   "cell_type": "code",
   "execution_count": 41,
   "id": "e51e700a",
   "metadata": {},
   "outputs": [
    {
     "ename": "TypeError",
     "evalue": "unhashable type: 'list'",
     "output_type": "error",
     "traceback": [
      "\u001b[0;31m---------------------------------------------------------------------------\u001b[0m",
      "\u001b[0;31mTypeError\u001b[0m                                 Traceback (most recent call last)",
      "\u001b[0;32m/tmp/ipykernel_90068/3484150061.py\u001b[0m in \u001b[0;36m<module>\u001b[0;34m\u001b[0m\n\u001b[1;32m     14\u001b[0m         \u001b[0;31m# this is a route to the end\u001b[0m\u001b[0;34m\u001b[0m\u001b[0;34m\u001b[0m\u001b[0m\n\u001b[1;32m     15\u001b[0m         \u001b[0msequence\u001b[0m\u001b[0;34m.\u001b[0m\u001b[0mappend\u001b[0m\u001b[0;34m(\u001b[0m\u001b[0md\u001b[0m\u001b[0;34m)\u001b[0m\u001b[0;34m\u001b[0m\u001b[0;34m\u001b[0m\u001b[0m\n\u001b[0;32m---> 16\u001b[0;31m         \u001b[0mcomplete_paths\u001b[0m\u001b[0;34m.\u001b[0m\u001b[0madd\u001b[0m\u001b[0;34m(\u001b[0m\u001b[0mlist\u001b[0m\u001b[0;34m(\u001b[0m\u001b[0msequence\u001b[0m\u001b[0;34m)\u001b[0m\u001b[0;34m)\u001b[0m\u001b[0;34m\u001b[0m\u001b[0;34m\u001b[0m\u001b[0m\n\u001b[0m\u001b[1;32m     17\u001b[0m         \u001b[0;32mbreak\u001b[0m\u001b[0;34m\u001b[0m\u001b[0;34m\u001b[0m\u001b[0m\n\u001b[1;32m     18\u001b[0m     \u001b[0;32melif\u001b[0m \u001b[0md\u001b[0m\u001b[0;34m.\u001b[0m\u001b[0mislower\u001b[0m\u001b[0;34m(\u001b[0m\u001b[0;34m)\u001b[0m \u001b[0;32mand\u001b[0m \u001b[0md\u001b[0m \u001b[0;32mnot\u001b[0m \u001b[0;32min\u001b[0m \u001b[0msequence\u001b[0m\u001b[0;34m:\u001b[0m\u001b[0;34m\u001b[0m\u001b[0;34m\u001b[0m\u001b[0m\n",
      "\u001b[0;31mTypeError\u001b[0m: unhashable type: 'list'"
     ]
    }
   ],
   "source": [
    "complete_paths = set()\n",
    "sequence = deque()\n",
    "orig = 'start'\n",
    "# add the starting point to the sequence q\n",
    "sequence.append(orig)\n",
    "# move to the other end of the path\n",
    "dest = paths['start'][0]\n",
    "sequence.append(dest)\n",
    "# check next path\n",
    "dests = deque(paths[dest])\n",
    "while len(dests) > 0:\n",
    "    d = dests.pop()\n",
    "    if d == 'end':\n",
    "        # this is a route to the end\n",
    "        sequence.append(d)\n",
    "        complete_paths.add(list(sequence))\n",
    "        break\n",
    "    elif d.islower() and d not in sequence:\n",
    "        # proceed as small cave has not been visited\n",
    "        sequence.append(d)\n",
    "        \n",
    "        break\n",
    "    elif d.isupper():\n",
    "        # proceed as it is a big cave\n",
    "        sequence.append(d)\n",
    "        break\n",
    "    else:\n",
    "        # this is a dead end, backtrack\n",
    "        continue\n",
    "sequence\n",
    "print(complete_paths)"
   ]
  },
  {
   "cell_type": "code",
   "execution_count": null,
   "id": "f700e0ae",
   "metadata": {},
   "outputs": [],
   "source": []
  }
 ],
 "metadata": {
  "kernelspec": {
   "display_name": "Python 3 (ipykernel)",
   "language": "python",
   "name": "python3"
  },
  "language_info": {
   "codemirror_mode": {
    "name": "ipython",
    "version": 3
   },
   "file_extension": ".py",
   "mimetype": "text/x-python",
   "name": "python",
   "nbconvert_exporter": "python",
   "pygments_lexer": "ipython3",
   "version": "3.10.1"
  }
 },
 "nbformat": 4,
 "nbformat_minor": 5
}
