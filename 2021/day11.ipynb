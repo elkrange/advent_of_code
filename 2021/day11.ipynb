{
 "cells": [
  {
   "cell_type": "code",
   "execution_count": null,
   "id": "feaf9f0e",
   "metadata": {},
   "outputs": [],
   "source": [
    "from collections import Counter, deque\n",
    "import numpy as np"
   ]
  },
  {
   "cell_type": "code",
   "execution_count": null,
   "id": "ffe2f6cf",
   "metadata": {},
   "outputs": [],
   "source": [
    "example_input = \"\"\"\n",
    "5483143223\n",
    "2745854711\n",
    "5264556173\n",
    "6141336146\n",
    "6357385478\n",
    "4167524645\n",
    "2176841721\n",
    "6882881134\n",
    "4846848554\n",
    "5283751526\n",
    "\"\"\"\n",
    "\n",
    "example_2_input = \"\"\"\n",
    "11111\n",
    "19991\n",
    "19191\n",
    "19991\n",
    "11111\n",
    "\"\"\"\n",
    "\n",
    "puzzle_input = \"\"\"\n",
    "4836484555\n",
    "4663841772\n",
    "3512484556\n",
    "1481547572\n",
    "7741183422\n",
    "8683222882\n",
    "4215244233\n",
    "1544712171\n",
    "5725855786\n",
    "1717382281\n",
    "\"\"\""
   ]
  },
  {
   "cell_type": "code",
   "execution_count": null,
   "id": "7bf11a60",
   "metadata": {},
   "outputs": [],
   "source": [
    "lines = puzzle_input.split()\n",
    "\n",
    "adjacent_offsets = [\n",
    "    (1, 0),\n",
    "    (1, 1),\n",
    "    (1, -1),\n",
    "    (0, 1),\n",
    "    (0, -1),\n",
    "    (-1, 0),\n",
    "    (-1, 1),\n",
    "    (-1, -1),\n",
    "]"
   ]
  },
  {
   "cell_type": "code",
   "execution_count": null,
   "id": "65a99a57",
   "metadata": {},
   "outputs": [],
   "source": [
    "octos = np.array([list(map(int, list(line))) for line in lines])\n",
    "rows = octos.shape[0]\n",
    "cols = octos.shape[1]\n",
    "flash_count = 0\n",
    "synch_step = None\n",
    "print(\"Starting state\")\n",
    "print(octos)\n",
    "for step in range(300):\n",
    "    # print(f\"Step {step+1}:\")\n",
    "    # increment energy levels by 1\n",
    "    octos += 1\n",
    "    # loop\n",
    "    # check if any energy level is > 9\n",
    "    new_flashed = flashed = set(zip(*np.where(octos > 9)))\n",
    "    # flash energy levels above 9\n",
    "    while len(new_flashed) > 0:\n",
    "        # increment adjacent by 1 for each octopus that flashed\n",
    "        for loc in new_flashed:\n",
    "            for offset in adjacent_offsets:\n",
    "                adjacent = tuple(map(lambda i, j: i + j, loc, offset))\n",
    "                if (\n",
    "                    0 <= adjacent[0] < rows\n",
    "                    and 0 <= adjacent[1] < cols\n",
    "                    and adjacent not in flashed\n",
    "                ):\n",
    "                    octos[adjacent] += 1\n",
    "        new_flashed = set(zip(*np.where(octos > 9))) - flashed\n",
    "        flashed = flashed | new_flashed\n",
    "    # set any flashed to 0\n",
    "    octos = np.where(octos > 9, 0, octos)\n",
    "    if np.all(octos == 0):\n",
    "        synch_step = step + 1\n",
    "        print(f\"Sync step at {synch_step}\")\n",
    "        print(octos)\n",
    "    flash_count += len(flashed)\n",
    "print(octos)\n",
    "print(f\"Flash count: {flash_count}\")\n",
    "print(f\"Sync step was {synch_step}\")"
   ]
  },
  {
   "cell_type": "code",
   "execution_count": null,
   "id": "faff724b",
   "metadata": {},
   "outputs": [],
   "source": [
    "a = np.zeros((10, 10), dtype=int)\n",
    "b = np.ones((10, 10), dtype=int)\n",
    "np.all(a == 0)"
   ]
  }
 ],
 "metadata": {
  "kernelspec": {
   "display_name": "Python 3 (ipykernel)",
   "language": "python",
   "name": "python3"
  },
  "language_info": {
   "codemirror_mode": {
    "name": "ipython",
    "version": 3
   },
   "file_extension": ".py",
   "mimetype": "text/x-python",
   "name": "python",
   "nbconvert_exporter": "python",
   "pygments_lexer": "ipython3",
   "version": "3.10.1"
  }
 },
 "nbformat": 4,
 "nbformat_minor": 5
}
