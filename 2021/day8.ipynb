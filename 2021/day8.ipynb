{
 "cells": [
  {
   "cell_type": "code",
   "execution_count": 1,
   "id": "3702a5e6",
   "metadata": {},
   "outputs": [],
   "source": [
    "import numpy as np\n",
    "from collections import Counter"
   ]
  },
  {
   "cell_type": "code",
   "execution_count": 2,
   "id": "891a733d",
   "metadata": {},
   "outputs": [
    {
     "name": "stdout",
     "output_type": "stream",
     "text": [
      "[['a', 'b'], ['d', 'a', 'b'], ['e', 'a', 'f', 'b'], ['c', 'd', 'f', 'b', 'e'], ['g', 'c', 'd', 'f', 'a'], ['f', 'b', 'c', 'a', 'd'], ['c', 'e', 'f', 'a', 'b', 'd'], ['c', 'd', 'f', 'g', 'e', 'b'], ['c', 'a', 'g', 'e', 'd', 'b'], ['a', 'c', 'e', 'd', 'g', 'f', 'b']]\n"
     ]
    }
   ],
   "source": [
    "test_data = \"acedgfb cdfbe gcdfa fbcad dab cefabd cdfgeb eafb cagedb ab | cdfeb fcadb cdfeb cdbaf\"\n",
    "long_test_data = \"be cfbegad cbdgef fgaecd cgeb fdcge agebfd fecdb fabcd edb | fdgacbe cefdb cefbgd gcbe\\nedbfga begcd cbg gc gcadebf fbgde acbgfd abcde gfcbed gfec | fcgedb cgb dgebacf gc\\nfgaebd cg bdaec gdafb agbcfd gdcbef bgcad gfac gcb cdgabef | cg cg fdcagb cbg\\nfbegcd cbd adcefb dageb afcb bc aefdc ecdab fgdeca fcdbega | efabcd cedba gadfec cb\\naecbfdg fbg gf bafeg dbefa fcge gcbea fcaegb dgceab fcbdga | gecf egdcabf bgf bfgea\\nfgeab ca afcebg bdacfeg cfaedg gcfdb baec bfadeg bafgc acf | gebdcfa ecba ca fadegcb\\ndbcfg fgd bdegcaf fgec aegbdf ecdfab fbedc dacgb gdcebf gf | cefg dcbef fcge gbcadfe\\nbdfegc cbegaf gecbf dfcage bdacg ed bedf ced adcbefg gebcd | ed bcgafe cdgba cbgef\\negadfb cdbfeg cegd fecab cgb gbdefca cg fgcdab egfdb bfceg | gbdfcae bgc cg cgb\\ngcafb gcf dcaebfg ecagb gf abcdeg gaef cafbge fdbac fegbdc | fgae cfgab fg bagce\\n\"\n",
    "with open(\"day8_input.txt\", mode='r') as input_file:\n",
    "    puzzle_input = input_file.readlines()\n",
    "\n",
    "example_digit_map = {\n",
    "    1: 'cf',  # 2\n",
    "    7: 'acf',  # 3\n",
    "    4: 'bcdf',  # 4\n",
    "    8: 'abcdefg', #7\n",
    "    2: 'acdeg',  # 5\n",
    "    3: 'acdfg',  # 5\n",
    "    5: 'abdfg',  # 5\n",
    "    0: 'abcefg',  # 6\n",
    "    6: 'abdefg',  # 6\n",
    "    9: 'abcdfg',  # 6\n",
    "}\n",
    "\n",
    "letter_pos_map = {\n",
    "    'a': 0,\n",
    "    'b': 1,\n",
    "    'c': 2,\n",
    "    'd': 3,\n",
    "    'e': 4,\n",
    "    'f': 5,\n",
    "    'g': 6,\n",
    "}\n",
    "\n",
    "digit_len_map = {\n",
    "    0: 6,\n",
    "    1: 2,\n",
    "    2: 5,\n",
    "    3: 5,\n",
    "    4: 4,\n",
    "    5: 5,\n",
    "    6: 6,\n",
    "    7: 3,\n",
    "    8: 7,\n",
    "    9: 6,\n",
    "}\n",
    "len_digit_map = {\n",
    "    2: 1,\n",
    "    3: 7,\n",
    "    4: 4,\n",
    "#     5: [2,3,5],\n",
    "#     6: [0,6,9],\n",
    "    7: 8,\n",
    "}\n",
    "\n",
    "# unique_len_list = [2,3,4,7]\n",
    "\n",
    "# signal_parts = list(map(lambda x: x.strip(), test_data.split('|')))\n",
    "# digit_codes = signal_parts[0].split()\n",
    "# output_signal = signal_parts[1].split()\n",
    "# digit_codes = [\n",
    "#     list(code) for code in digit_codes \n",
    "# ]\n",
    "# digit_codes.sort(key=len)\n",
    "# print(digit_codes)"
   ]
  },
  {
   "cell_type": "code",
   "execution_count": 3,
   "id": "e83966c8",
   "metadata": {},
   "outputs": [
    {
     "name": "stdout",
     "output_type": "stream",
     "text": [
      "310\n"
     ]
    }
   ],
   "source": [
    "lines = [\n",
    "    line.strip() for line in puzzle_input\n",
    "]\n",
    "array = None\n",
    "for line in lines:\n",
    "    signal_parts = list(map(lambda x: x.strip(), line.split('|')))\n",
    "    digit_codes = signal_parts[0].split()\n",
    "    output_signal = signal_parts[1].split()\n",
    "    digit_codes.sort(key=len)\n",
    "    output_lens = list(map(len, output_signal))\n",
    "    if array is None:\n",
    "        array = np.array([output_lens])\n",
    "    else:\n",
    "        array = np.append(array, np.array([output_lens]), axis=0)\n",
    "print(np.isin(array, unique_len_list).sum())"
   ]
  },
  {
   "cell_type": "code",
   "execution_count": 4,
   "id": "36ef39e7",
   "metadata": {},
   "outputs": [
    {
     "name": "stdout",
     "output_type": "stream",
     "text": [
      "915941\n"
     ]
    }
   ],
   "source": [
    "# lines = long_test_data.strip().split('\\n')\n",
    "code_values = []\n",
    "for line in lines:\n",
    "    signal_parts = list(map(lambda x: x.strip(), line.split('|')))\n",
    "    digit_codes = signal_parts[0].split()\n",
    "    output_signal = signal_parts[1].split()\n",
    "    digit_codes = [\n",
    "        list(code) for code in digit_codes \n",
    "    ]\n",
    "\n",
    "    digit_cnt = Counter(signal_parts[0].replace(\" \",\"\"))\n",
    "    \n",
    "    digit_map = {}\n",
    "    unmapped_codes = []\n",
    "    code_map = {}\n",
    "\n",
    "    for code in digit_codes:\n",
    "        code_len = len(code)\n",
    "        if code_len in len_digit_map.keys():\n",
    "            digit_map[len_digit_map[code_len]] = code\n",
    "            code_map[\"\".join(sorted(code))] = len_digit_map[code_len]\n",
    "        else:\n",
    "            unmapped_codes.append(code)\n",
    "    for item in unmapped_codes:\n",
    "        if len(item) == 6:\n",
    "            # find 9\n",
    "            if set(digit_map[4]).issubset(set(item)):\n",
    "                digit_map[9] = item\n",
    "                code_map[\"\".join(sorted(item))] = 9\n",
    "            # find 0\n",
    "            elif set(digit_map[7]).issubset(set(item)):\n",
    "                digit_map[0] = item\n",
    "                code_map[\"\".join(sorted(item))] = 0\n",
    "            # must be 6\n",
    "            else:\n",
    "                digit_map[6] = item\n",
    "                code_map[\"\".join(sorted(item))] = 6\n",
    "\n",
    "        elif len(item) == 5:\n",
    "            # find 3\n",
    "            if set(digit_map[7]).issubset(set(item)):\n",
    "                digit_map[3] = item\n",
    "                code_map[\"\".join(sorted(item))] = 3\n",
    "\n",
    "            # 5 has a common segment with every other number\n",
    "            elif digit_cnt.most_common(1)[0][0] in item:\n",
    "                digit_map[5] = item\n",
    "                code_map[\"\".join(sorted(item))] = 5\n",
    "            # 2 must be the other\n",
    "            else:\n",
    "                digit_map[2] = item\n",
    "                code_map[\"\".join(sorted(item))] = 2\n",
    "        else:\n",
    "            raise Exception('Something went wrong!')\n",
    "    output_code = []\n",
    "    for item in output_signal:\n",
    "        output_code.append((code_map[\"\".join(sorted(item))]))\n",
    "    code_value = int(\"\".join(map(str, output_code)))\n",
    "#     print(output_signal, code_value)\n",
    "    code_values.append(code_value)\n",
    "print(np.array(code_values).sum())"
   ]
  }
 ],
 "metadata": {
  "kernelspec": {
   "display_name": "Python 3 (ipykernel)",
   "language": "python",
   "name": "python3"
  },
  "language_info": {
   "codemirror_mode": {
    "name": "ipython",
    "version": 3
   },
   "file_extension": ".py",
   "mimetype": "text/x-python",
   "name": "python",
   "nbconvert_exporter": "python",
   "pygments_lexer": "ipython3",
   "version": "3.10.1"
  }
 },
 "nbformat": 4,
 "nbformat_minor": 5
}
