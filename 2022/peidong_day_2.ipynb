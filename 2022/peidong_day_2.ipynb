{
 "cells": [
  {
   "cell_type": "code",
   "execution_count": 1,
   "id": "8fa1db81",
   "metadata": {},
   "outputs": [],
   "source": [
    "data = !curl https://adventofcode.com/2022/day/2/input --cookie \"session=53616c7465645f5fcc5b7e1ab2f8d285d4a883a0b621cc8074991f953b7bb2ae2b7f5cf0d4ed6e00d6e1f10aeee8eab8780c35dd3a7a853ae5f15f6ccc4ae41d\""
   ]
  },
  {
   "cell_type": "code",
   "execution_count": 2,
   "id": "d9066cea",
   "metadata": {},
   "outputs": [
    {
     "data": {
      "text/plain": [
       "'B Z'"
      ]
     },
     "execution_count": 2,
     "metadata": {},
     "output_type": "execute_result"
    }
   ],
   "source": [
    "input_data = data [5:]\n",
    "input_data[0]"
   ]
  },
  {
   "cell_type": "code",
   "execution_count": 3,
   "id": "7e2cb16b",
   "metadata": {},
   "outputs": [
    {
     "data": {
      "text/plain": [
       "'A Y'"
      ]
     },
     "execution_count": 3,
     "metadata": {},
     "output_type": "execute_result"
    }
   ],
   "source": [
    "input_data[-1]"
   ]
  },
  {
   "cell_type": "code",
   "execution_count": 4,
   "id": "012f0936",
   "metadata": {},
   "outputs": [],
   "source": [
    "# rock\n",
    "bonus = {\n",
    "    'X': 1, # ROCK\n",
    "    'Y': 2, # Paper\n",
    "    'Z': 3, # SCISSOR\n",
    "}\n",
    "\n",
    "draw = {\n",
    "    'X': 'A', # ROCK\n",
    "    'Y': 'B', # Paper\n",
    "    'Z': 'C', # SCISSOR\n",
    "} # 3 pts\n",
    "\n",
    "win = {\n",
    "    'X': 'C', # rock > scissor\n",
    "    'Y': 'A', # paper > rock\n",
    "    'Z': 'B', # scissor > paper\n",
    "} # 6 pts"
   ]
  },
  {
   "cell_type": "code",
   "execution_count": 5,
   "id": "891a20d5",
   "metadata": {},
   "outputs": [],
   "source": [
    "score_total = 0\n",
    "\n",
    "for i in input_data:\n",
    "    elf = i[0]\n",
    "    me = i[-1]\n",
    "    bonus_score = bonus[me]\n",
    "    \n",
    "    draw_case = draw[me]\n",
    "    if elf == draw_case:\n",
    "        score_total += (3 + bonus_score) \n",
    "        continue\n",
    "    \n",
    "    win_case = win[me]\n",
    "    if elf == win_case:\n",
    "        score_total += (6 + bonus_score) \n",
    "        continue\n",
    "    \n",
    "    score_total += bonus_score\n",
    "    "
   ]
  },
  {
   "cell_type": "code",
   "execution_count": 6,
   "id": "3b7e4c99",
   "metadata": {},
   "outputs": [
    {
     "data": {
      "text/plain": [
       "15523"
      ]
     },
     "execution_count": 6,
     "metadata": {},
     "output_type": "execute_result"
    }
   ],
   "source": [
    "score_total"
   ]
  },
  {
   "cell_type": "code",
   "execution_count": null,
   "id": "a9a4d8d2",
   "metadata": {},
   "outputs": [],
   "source": []
  },
  {
   "cell_type": "code",
   "execution_count": null,
   "id": "7df96743",
   "metadata": {},
   "outputs": [],
   "source": []
  }
 ],
 "metadata": {
  "kernelspec": {
   "display_name": "Python 3 (ipykernel)",
   "language": "python",
   "name": "python3"
  },
  "language_info": {
   "codemirror_mode": {
    "name": "ipython",
    "version": 3
   },
   "file_extension": ".py",
   "mimetype": "text/x-python",
   "name": "python",
   "nbconvert_exporter": "python",
   "pygments_lexer": "ipython3",
   "version": "3.10.8"
  }
 },
 "nbformat": 4,
 "nbformat_minor": 5
}
