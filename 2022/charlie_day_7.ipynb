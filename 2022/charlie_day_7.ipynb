{
 "cells": [
  {
   "cell_type": "code",
   "execution_count": null,
   "id": "e95ab02f-d43a-4783-beee-fd9b94bed070",
   "metadata": {},
   "outputs": [],
   "source": [
    "example_text = \"\"\"$ cd /\n",
    "$ ls\n",
    "dir a\n",
    "14848514 b.txt\n",
    "8504156 c.dat\n",
    "dir d\n",
    "$ cd a\n",
    "$ ls\n",
    "dir e\n",
    "29116 f\n",
    "2557 g\n",
    "62596 h.lst\n",
    "$ cd e\n",
    "$ ls\n",
    "584 i\n",
    "$ cd ..\n",
    "$ cd ..\n",
    "$ cd d\n",
    "$ ls\n",
    "4060174 j\n",
    "8033020 d.log\n",
    "5626152 d.ext\n",
    "7214296 k\"\"\"\n",
    "lines = example_text.splitlines()"
   ]
  },
  {
   "cell_type": "code",
   "execution_count": null,
   "id": "9984db43-36ad-4b92-90a7-378f78216813",
   "metadata": {},
   "outputs": [],
   "source": [
    "with open(\"input_files/day_7_input.txt\", \"r\") as f:\n",
    "    raw_lines = f.readlines()\n",
    "lines = [line.strip() for line in raw_lines]"
   ]
  },
  {
   "cell_type": "code",
   "execution_count": null,
   "id": "d8604e5a-b26a-4784-a24c-cd015b45517b",
   "metadata": {},
   "outputs": [],
   "source": [
    "OUT_DIR = \"..\"\n",
    "COMMAND_LINE_CHAR = \"$\"\n",
    "MAX_DIR_SIZE = 100000\n",
    "CH_DIR = \"cd\"\n",
    "\n",
    "directory_sizes = {}\n",
    "cur_dir = []\n",
    "\n",
    "for idx, line in enumerate(lines):\n",
    "    if line[0] == COMMAND_LINE_CHAR:\n",
    "        if (command := line[2:4]) == CH_DIR:\n",
    "            if (dest_dir := line[5:].strip()) == OUT_DIR:\n",
    "                cur_dir.pop()\n",
    "            else:\n",
    "                cur_dir.append(dest_dir)\n",
    "                key = \"/\".join(cur_dir)\n",
    "                if dest_dir not in set(directory_structure.keys()):\n",
    "                    directory_sizes[key] = []\n",
    "    else:\n",
    "        contents = line.split(\" \")\n",
    "        if contents[0].isnumeric():\n",
    "            size = int(contents[0])\n",
    "            for j in range(len(cur_dir)):\n",
    "                directory_sizes[\"/\".join(cur_dir[: j + 1])].append(size)\n",
    "filtered_directory_sizes = [\n",
    "    sum(value) for value in directory_sizes.values() if sum(value) <= MAX_DIR_SIZE\n",
    "]\n",
    "sum(filtered_directory_sizes)"
   ]
  },
  {
   "cell_type": "code",
   "execution_count": null,
   "id": "a2b46084-7ecf-4715-9e8a-68c0aed095ea",
   "metadata": {},
   "outputs": [],
   "source": [
    "TOTAL_DISK_SPACE = 70_000_000\n",
    "UNUSED_DISK_SPACE = 30_000_000\n",
    "ROOT_DIR = \"/\"\n",
    "\n",
    "directory_summed_sizes = {\n",
    "    key: sum(directory_sizes[key]) for key in directory_sizes.keys()\n",
    "}\n",
    "space_to_free = max(\n",
    "    0, UNUSED_DISK_SPACE - (TOTAL_DISK_SPACE - directory_summed_sizes[ROOT_DIR])\n",
    ")\n",
    "sorted_dirs = dict(sorted(directory_summed_sizes.items(), key=lambda item: item[1]))\n",
    "for key in sorted_dirs.keys():\n",
    "    if directory_summed_sizes[key] > space_to_free:\n",
    "        print(key, directory_summed_sizes[key])\n",
    "        break"
   ]
  }
 ],
 "metadata": {
  "kernelspec": {
   "display_name": "Python 3 (ipykernel)",
   "language": "python",
   "name": "python3"
  },
  "language_info": {
   "codemirror_mode": {
    "name": "ipython",
    "version": 3
   },
   "file_extension": ".py",
   "mimetype": "text/x-python",
   "name": "python",
   "nbconvert_exporter": "python",
   "pygments_lexer": "ipython3",
   "version": "3.11.0"
  }
 },
 "nbformat": 4,
 "nbformat_minor": 5
}
