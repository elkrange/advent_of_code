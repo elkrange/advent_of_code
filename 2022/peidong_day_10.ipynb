{
 "cells": [
  {
   "cell_type": "code",
   "execution_count": 45,
   "id": "9ef7d90b",
   "metadata": {},
   "outputs": [
    {
     "data": {
      "text/plain": [
       "'noop'"
      ]
     },
     "execution_count": 45,
     "metadata": {},
     "output_type": "execute_result"
    }
   ],
   "source": [
    "data = !curl https://adventofcode.com/2022/day/10/input --cookie \"session=53616c7465645f5fcc5b7e1ab2f8d285d4a883a0b621cc8074991f953b7bb2ae2b7f5cf0d4ed6e00d6e1f10aeee8eab8780c35dd3a7a853ae5f15f6ccc4ae41d\"\n",
    "input_data = data[5:]\n",
    "input_data[0]"
   ]
  },
  {
   "cell_type": "code",
   "execution_count": 46,
   "id": "44b538a0",
   "metadata": {},
   "outputs": [
    {
     "data": {
      "text/plain": [
       "14160"
      ]
     },
     "execution_count": 46,
     "metadata": {},
     "output_type": "execute_result"
    }
   ],
   "source": [
    "value = 1 \n",
    "cycle = 0\n",
    "\n",
    "mile_stone = [20,60,100,140,180,220]\n",
    "mile_stone.reverse()\n",
    "\n",
    "result = 0\n",
    "\n",
    "for line in input_data:\n",
    "    words = line.split(' ')\n",
    "    if words[0] == 'noop':\n",
    "        cycle += 1\n",
    "        if cycle in mile_stone:\n",
    "            result += value*cycle\n",
    "\n",
    "    else:\n",
    "        cycle += 1\n",
    "        if cycle in mile_stone:\n",
    "            result += value*cycle\n",
    "            \n",
    "        cycle += 1\n",
    "        if cycle in mile_stone:\n",
    "            result += value*cycle\n",
    "            \n",
    "        value += int(words[1])\n",
    "    \n",
    "result"
   ]
  },
  {
   "cell_type": "markdown",
   "id": "a6026101",
   "metadata": {},
   "source": [
    "# Part 2"
   ]
  },
  {
   "cell_type": "code",
   "execution_count": 75,
   "id": "998772cd",
   "metadata": {},
   "outputs": [
    {
     "name": "stdout",
     "output_type": "stream",
     "text": [
      "###    ## #### ###  ###  #### ####  ##  \n",
      "#  #    # #    #  # #  # #    #    #  # \n",
      "#  #    # ###  #  # #  # ###  ###  #    \n",
      "###     # #    ###  ###  #    #    #    \n",
      "# #  #  # #    # #  #    #    #    #  # \n",
      "#  #  ##  #### #  # #    #### #     ##  \n"
     ]
    }
   ],
   "source": [
    "sprint = 1\n",
    "cycle = 0\n",
    "\n",
    "final = [[' ' for i in range(40)] for i in range(6)]\n",
    "\n",
    "for line in input_data:\n",
    "    words = line.split(' ')\n",
    "    if words[0] == 'noop':\n",
    "        if abs((cycle)%40-(sprint)) <= 1:\n",
    "            final[cycle//40][cycle%40] = '#'\n",
    "        cycle += 1\n",
    "        \n",
    "    else:\n",
    "        if abs(cycle%40-(sprint)) <= 1:\n",
    "            final[cycle//40][cycle%40] = '#'\n",
    "        cycle += 1\n",
    "            \n",
    "        \n",
    "        if abs(cycle%40-((sprint))) <= 1:\n",
    "            final[cycle//40][cycle%40] = '#'\n",
    "        cycle += 1\n",
    "        sprint += int(words[1])\n",
    "\n",
    "\n",
    "for row in final:\n",
    "    print(''.join(row))"
   ]
  },
  {
   "cell_type": "code",
   "execution_count": null,
   "id": "ea067133",
   "metadata": {},
   "outputs": [],
   "source": []
  }
 ],
 "metadata": {
  "kernelspec": {
   "display_name": "Python 3 (ipykernel)",
   "language": "python",
   "name": "python3"
  },
  "language_info": {
   "codemirror_mode": {
    "name": "ipython",
    "version": 3
   },
   "file_extension": ".py",
   "mimetype": "text/x-python",
   "name": "python",
   "nbconvert_exporter": "python",
   "pygments_lexer": "ipython3",
   "version": "3.10.8"
  }
 },
 "nbformat": 4,
 "nbformat_minor": 5
}
