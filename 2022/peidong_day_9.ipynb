{
 "cells": [
  {
   "cell_type": "code",
   "execution_count": 1,
   "id": "0b62cb07",
   "metadata": {},
   "outputs": [
    {
     "data": {
      "text/plain": [
       "'L 1'"
      ]
     },
     "execution_count": 1,
     "metadata": {},
     "output_type": "execute_result"
    }
   ],
   "source": [
    "data = !curl https://adventofcode.com/2022/day/9/input --cookie \"session=53616c7465645f5fcc5b7e1ab2f8d285d4a883a0b621cc8074991f953b7bb2ae2b7f5cf0d4ed6e00d6e1f10aeee8eab8780c35dd3a7a853ae5f15f6ccc4ae41d\"\n",
    "input_data = data[5:]\n",
    "input_data[0]"
   ]
  },
  {
   "cell_type": "code",
   "execution_count": 2,
   "id": "71745b45",
   "metadata": {},
   "outputs": [
    {
     "data": {
      "text/plain": [
       "2000"
      ]
     },
     "execution_count": 2,
     "metadata": {},
     "output_type": "execute_result"
    }
   ],
   "source": [
    "len(input_data)"
   ]
  },
  {
   "cell_type": "code",
   "execution_count": 3,
   "id": "676e8b83",
   "metadata": {},
   "outputs": [
    {
     "data": {
      "text/plain": [
       "3"
      ]
     },
     "execution_count": 3,
     "metadata": {},
     "output_type": "execute_result"
    }
   ],
   "source": [
    "len(input_data[0])"
   ]
  },
  {
   "cell_type": "code",
   "execution_count": 4,
   "id": "6bcd9837",
   "metadata": {},
   "outputs": [],
   "source": [
    "test_data = (\n",
    "    'R 4',\n",
    "    'U 4',\n",
    "    'L 3',\n",
    "    'D 1',\n",
    "    'R 4',\n",
    "    'D 1',\n",
    "    'L 5',\n",
    "    'R 2',\n",
    ")\n"
   ]
  },
  {
   "cell_type": "code",
   "execution_count": 5,
   "id": "820cad64",
   "metadata": {},
   "outputs": [],
   "source": [
    "def tail_position(head_x, head_y, tail_x, tail_y):\n",
    "    diff_x = head_x - tail_x\n",
    "    diff_y = head_y - tail_y\n",
    "    \n",
    "    if abs(diff_x) <= 1 and abs(diff_y) <= 1:\n",
    "        # head and tail overlap, tail will not move\n",
    "        # head and tail diagonally adjacent, tail will not move\n",
    "        tail = [tail_x, tail_y]\n",
    "    elif abs(diff_x) == 2 and abs(diff_y) == 2:\n",
    "        tail = [\n",
    "            head_x-1 if head_x>tail_x else head_x+1,\n",
    "            head_y-1 if head_y>tail_y else head_y+1,\n",
    "        ]\n",
    "    elif abs(diff_x) == 2:\n",
    "        tail = [\n",
    "            head_x-1 if head_x>tail_x else head_x+1,\n",
    "            head_y,\n",
    "        ]\n",
    "    elif abs(diff_y) == 2:\n",
    "        tail = [\n",
    "            head_x,\n",
    "            head_y-1 if head_y>tail_y else head_y+1,\n",
    "        ]\n",
    "    else:\n",
    "        print(tail)\n",
    "        print('ERROR')\n",
    "    \n",
    "    return tail[0],tail[1]\n",
    "     \n",
    "head = [1,1]\n",
    "tail = [1,1]\n",
    "tail_hist = set()\n",
    "\n",
    "for ins in input_data:\n",
    "    direction, steps = ins.split(' ')\n",
    "    steps = int(steps)\n",
    "    if direction == 'U':\n",
    "        while steps >0:\n",
    "            head = [head[0],head[1]+1]\n",
    "            tail_x, tail_y = tail_position(head[0],head[1],tail[0],tail[1])\n",
    "            tail = [tail_x,tail_y]\n",
    "            tail_hist.add(f'{tail_x},{tail_y}')\n",
    "            steps -= 1\n",
    "        \n",
    "    elif direction == 'D':\n",
    "        while steps >0:\n",
    "            head = [head[0],head[1]-1]\n",
    "            tail_x, tail_y = tail_position(head[0],head[1],tail[0],tail[1])\n",
    "            tail = [tail_x,tail_y]\n",
    "            tail_hist.add(f'{tail_x},{tail_y}')\n",
    "            steps -= 1\n",
    "            \n",
    "    elif direction == 'L':\n",
    "        while steps > 0:\n",
    "            head = [head[0]-1,head[1]]\n",
    "            tail_x, tail_y = tail_position(head[0],head[1],tail[0],tail[1])\n",
    "            tail = [tail_x,tail_y]\n",
    "            tail_hist.add(f'{tail_x},{tail_y}')\n",
    "            steps -= 1\n",
    "            \n",
    "    elif direction == 'R':\n",
    "        while steps > 0:\n",
    "            head = [head[0]+1,head[1]]  \n",
    "            tail_x, tail_y = tail_position(head[0],head[1],tail[0],tail[1])\n",
    "            tail = [tail_x,tail_y]\n",
    "            tail_hist.add(f'{tail_x},{tail_y}')\n",
    "            steps -= 1"
   ]
  },
  {
   "cell_type": "code",
   "execution_count": 6,
   "id": "0fa115c2",
   "metadata": {},
   "outputs": [
    {
     "data": {
      "text/plain": [
       "6067"
      ]
     },
     "execution_count": 6,
     "metadata": {},
     "output_type": "execute_result"
    }
   ],
   "source": [
    "len(tail_hist)"
   ]
  },
  {
   "cell_type": "markdown",
   "id": "c0694f42",
   "metadata": {},
   "source": [
    "# Part 2"
   ]
  },
  {
   "cell_type": "code",
   "execution_count": 50,
   "id": "c7710484",
   "metadata": {},
   "outputs": [],
   "source": [
    "test_data = (\n",
    "    'R 5',\n",
    "    'U 8',\n",
    "    'L 8',\n",
    "    'D 3',\n",
    "    'R 17',\n",
    "    'D 10',\n",
    "    'L 25',\n",
    "    'U 20',\n",
    ")\n"
   ]
  },
  {
   "cell_type": "code",
   "execution_count": 55,
   "id": "7e248986",
   "metadata": {},
   "outputs": [],
   "source": [
    "def tail_position(head_x, head_y, tail_x, tail_y):\n",
    "    diff_x = head_x - tail_x\n",
    "    diff_y = head_y - tail_y\n",
    "    \n",
    "    if abs(diff_x) <= 1 and abs(diff_y) <= 1:\n",
    "        # head and tail overlap, tail will not move\n",
    "        # head and tail diagonally adjacent, tail will not move\n",
    "        tail = [tail_x, tail_y]\n",
    "    elif abs(diff_x) == 2 and abs(diff_y) == 2:\n",
    "        tail = [\n",
    "            head_x-1 if head_x>tail_x else head_x+1,\n",
    "            head_y-1 if head_y>tail_y else head_y+1,\n",
    "        ]\n",
    "    elif abs(diff_x) == 2:\n",
    "        tail = [\n",
    "            head_x-1 if head_x>tail_x else head_x+1,\n",
    "            head_y,\n",
    "        ]\n",
    "    elif abs(diff_y) == 2:\n",
    "        tail = [\n",
    "            head_x,\n",
    "            head_y-1 if head_y>tail_y else head_y+1,\n",
    "        ]\n",
    "    else:\n",
    "        print(tail)\n",
    "        print('ERROR')\n",
    "    \n",
    "    return tail[0],tail[1]\n",
    "     \n",
    "head = [12,6]\n",
    "tail = [head,head,head,head,head,head,head,head,head]\n",
    "tail_hist = set()\n",
    "extra_len = len(tail)\n",
    "\n",
    "for ins in input_data:\n",
    "    direction, steps = ins.split(' ')\n",
    "    steps = int(steps)\n",
    "    if direction == 'U':\n",
    "        while steps >0:\n",
    "            head = [head[0],head[1]+1]\n",
    "            tail_x, tail_y = tail_position(head[0],head[1],tail[0][0],tail[0][1])\n",
    "            tail[0] = [tail_x,tail_y]\n",
    "            for i in range(1,extra_len):\n",
    "                tail_x, tail_y = tail_position(tail[i-1][0],tail[i-1][1],tail[i][0],tail[i][1])\n",
    "                tail[i] = [tail_x,tail_y]\n",
    "            tail_hist.add(f'{tail_x},{tail_y}')\n",
    "            steps -= 1\n",
    "        \n",
    "    elif direction == 'D':\n",
    "        while steps >0:\n",
    "            head = [head[0],head[1]-1]\n",
    "            tail_x, tail_y = tail_position(head[0],head[1],tail[0][0],tail[0][1])\n",
    "            tail[0] = [tail_x,tail_y]\n",
    "            for i in range(1,extra_len):\n",
    "                tail_x, tail_y = tail_position(tail[i-1][0],tail[i-1][1],tail[i][0],tail[i][1])\n",
    "                tail[i] = [tail_x,tail_y]\n",
    "            tail_hist.add(f'{tail_x},{tail_y}')\n",
    "            steps -= 1\n",
    "            \n",
    "    elif direction == 'L':\n",
    "        while steps > 0:\n",
    "            head = [head[0]-1,head[1]]\n",
    "            tail_x, tail_y = tail_position(head[0],head[1],tail[0][0],tail[0][1])\n",
    "            tail[0] = [tail_x,tail_y]\n",
    "            for i in range(1,extra_len):\n",
    "                tail_x, tail_y = tail_position(tail[i-1][0],tail[i-1][1],tail[i][0],tail[i][1])\n",
    "                tail[i] = [tail_x,tail_y]\n",
    "            tail_hist.add(f'{tail_x},{tail_y}')\n",
    "            steps -= 1\n",
    "            \n",
    "    elif direction == 'R':\n",
    "        while steps > 0:\n",
    "            head = [head[0]+1,head[1]]  \n",
    "            tail_x, tail_y = tail_position(head[0],head[1],tail[0][0],tail[0][1])\n",
    "            tail[0] = [tail_x,tail_y]\n",
    "            for i in range(1,extra_len):\n",
    "                tail_x, tail_y = tail_position(tail[i-1][0],tail[i-1][1],tail[i][0],tail[i][1])\n",
    "                tail[i] = [tail_x,tail_y]\n",
    "            tail_hist.add(f'{tail_x},{tail_y}')\n",
    "            steps -= 1\n"
   ]
  },
  {
   "cell_type": "code",
   "execution_count": 56,
   "id": "659f414e",
   "metadata": {},
   "outputs": [
    {
     "data": {
      "text/plain": [
       "2471"
      ]
     },
     "execution_count": 56,
     "metadata": {},
     "output_type": "execute_result"
    }
   ],
   "source": [
    "len(tail_hist)"
   ]
  },
  {
   "cell_type": "code",
   "execution_count": null,
   "id": "d0db6cf2",
   "metadata": {},
   "outputs": [],
   "source": []
  },
  {
   "cell_type": "code",
   "execution_count": null,
   "id": "2a31e118",
   "metadata": {},
   "outputs": [],
   "source": []
  }
 ],
 "metadata": {
  "kernelspec": {
   "display_name": "Python 3 (ipykernel)",
   "language": "python",
   "name": "python3"
  },
  "language_info": {
   "codemirror_mode": {
    "name": "ipython",
    "version": 3
   },
   "file_extension": ".py",
   "mimetype": "text/x-python",
   "name": "python",
   "nbconvert_exporter": "python",
   "pygments_lexer": "ipython3",
   "version": "3.10.8"
  }
 },
 "nbformat": 4,
 "nbformat_minor": 5
}
