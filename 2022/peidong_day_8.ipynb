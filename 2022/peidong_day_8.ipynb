{
 "cells": [
  {
   "cell_type": "code",
   "execution_count": 1,
   "id": "26c7649e",
   "metadata": {},
   "outputs": [],
   "source": [
    "data = !curl https://adventofcode.com/2022/day/8/input --cookie \"session=53616c7465645f5fcc5b7e1ab2f8d285d4a883a0b621cc8074991f953b7bb2ae2b7f5cf0d4ed6e00d6e1f10aeee8eab8780c35dd3a7a853ae5f15f6ccc4ae41d\"\n"
   ]
  },
  {
   "cell_type": "code",
   "execution_count": 2,
   "id": "0995c739",
   "metadata": {},
   "outputs": [
    {
     "data": {
      "text/plain": [
       "'121212011303121030310342042402330124244111344151215543452341031241241020400101112013333020112100012'"
      ]
     },
     "execution_count": 2,
     "metadata": {},
     "output_type": "execute_result"
    }
   ],
   "source": [
    "input_data = data[5:]\n",
    "input_data[0]"
   ]
  },
  {
   "cell_type": "code",
   "execution_count": 3,
   "id": "b96a5840",
   "metadata": {},
   "outputs": [
    {
     "data": {
      "text/plain": [
       "'020202200133011113024021012122001204231413324533351552454535514252231001424310042133312311233022121'"
      ]
     },
     "execution_count": 3,
     "metadata": {},
     "output_type": "execute_result"
    }
   ],
   "source": [
    "input_data[-1]"
   ]
  },
  {
   "cell_type": "code",
   "execution_count": 4,
   "id": "13ee5ee3",
   "metadata": {},
   "outputs": [],
   "source": [
    "test_data = ['30373',\n",
    "'25512',\n",
    "'65332',\n",
    "'33549',\n",
    "'35390',]"
   ]
  },
  {
   "cell_type": "code",
   "execution_count": null,
   "id": "2243497b",
   "metadata": {},
   "outputs": [],
   "source": []
  },
  {
   "cell_type": "code",
   "execution_count": 5,
   "id": "1d1c2964",
   "metadata": {},
   "outputs": [
    {
     "data": {
      "text/plain": [
       "1801"
      ]
     },
     "execution_count": 5,
     "metadata": {},
     "output_type": "execute_result"
    }
   ],
   "source": [
    "visible_points = set()\n",
    "\n",
    "matrix = []\n",
    "for idx, row in enumerate(input_data):\n",
    "    x = []\n",
    "    for entry in row:\n",
    "        x.append(int(entry))\n",
    "    matrix.append(x)\n",
    "\n",
    "# looking west to east\n",
    "for i in range(len(matrix[0])):\n",
    "    west = matrix[i][0] -1\n",
    "    for j in range(len(matrix)):\n",
    "        target = matrix[i][j]\n",
    "        if west < target:\n",
    "            visible_points.add(f'{i},{j}')\n",
    "            west = target\n",
    "\n",
    "# looking north to south\n",
    "for j in range(0,len(matrix),1):\n",
    "    north = matrix[0][j] -1\n",
    "    for i in range(len(matrix[0])):\n",
    "        target = matrix[i][j]\n",
    "        if north < target:\n",
    "            visible_points.add(f'{i},{j}')\n",
    "            north = target\n",
    "            \n",
    "# looking east to west\n",
    "for i in range(0,len(matrix[0]),1):\n",
    "    east = matrix[i][-1] -1\n",
    "    for j in reversed(range(len(matrix))):\n",
    "        target = matrix[i][j]\n",
    "        if east < target:\n",
    "            visible_points.add(f'{i},{j}')\n",
    "            east = target\n",
    "\n",
    "# looking south to north\n",
    "for j in range(len(matrix)):\n",
    "    south = matrix[-1][j] -1\n",
    "    for i in reversed(range(len(matrix[0]))):\n",
    "        target = matrix[i][j]     \n",
    "        if south < target:\n",
    "            visible_points.add(f'{i},{j}')\n",
    "            south = target\n",
    "\n",
    "len(visible_points)"
   ]
  },
  {
   "cell_type": "code",
   "execution_count": null,
   "id": "fd1d99f7",
   "metadata": {},
   "outputs": [],
   "source": []
  },
  {
   "cell_type": "markdown",
   "id": "ae5db7cc",
   "metadata": {},
   "source": [
    "# Part 2"
   ]
  },
  {
   "cell_type": "code",
   "execution_count": 6,
   "id": "426688bc",
   "metadata": {},
   "outputs": [
    {
     "data": {
      "text/plain": [
       "209880"
      ]
     },
     "execution_count": 6,
     "metadata": {},
     "output_type": "execute_result"
    }
   ],
   "source": [
    "matrix = []\n",
    "for idx, row in enumerate(input_data):\n",
    "    x = []\n",
    "    for entry in row:\n",
    "        x.append(int(entry))\n",
    "    matrix.append(x)\n",
    "matrix\n",
    " \n",
    "j_max = len(matrix[0])\n",
    "i_max = len(matrix)\n",
    "top_score = 0  \n",
    "\n",
    "def visibility(view_height, view):\n",
    "    vis = 0\n",
    "    for i in view:\n",
    "        vis += 1 \n",
    "        if i >= view_height:\n",
    "            break    \n",
    "    return vis\n",
    "            \n",
    "for i in range(1,i_max-1,1):\n",
    "    for j in range(1,j_max-1,1):\n",
    "        value_target = matrix[i][j]\n",
    "        \n",
    "        # look up\n",
    "        view = []\n",
    "        for k in reversed(range(0,i)):\n",
    "            view.append(matrix[k][j])\n",
    "        s_u = visibility(value_target,view)\n",
    "        \n",
    "        # look right\n",
    "        view = []\n",
    "        for k in range(j+1,j_max):\n",
    "            view.append(matrix[i][k])\n",
    "        s_r = visibility(value_target,view)\n",
    "        \n",
    "        # look down\n",
    "        view = []\n",
    "        for k in range(i+1,i_max):\n",
    "            view.append(matrix[k][j])\n",
    "        s_d = visibility(value_target,view)\n",
    "        \n",
    "        #look left\n",
    "        view = []\n",
    "        for k in reversed(range(0,j)):\n",
    "            view.append(matrix[i][k])\n",
    "        s_l = visibility(value_target,view)\n",
    "        \n",
    "        local = s_u*s_r*s_d*s_l\n",
    "        top_score = max(value_target,top_score,local)\n",
    "top_score"
   ]
  },
  {
   "cell_type": "code",
   "execution_count": null,
   "id": "f6fde867",
   "metadata": {},
   "outputs": [],
   "source": []
  }
 ],
 "metadata": {
  "kernelspec": {
   "display_name": "Python 3 (ipykernel)",
   "language": "python",
   "name": "python3"
  },
  "language_info": {
   "codemirror_mode": {
    "name": "ipython",
    "version": 3
   },
   "file_extension": ".py",
   "mimetype": "text/x-python",
   "name": "python",
   "nbconvert_exporter": "python",
   "pygments_lexer": "ipython3",
   "version": "3.10.8"
  }
 },
 "nbformat": 4,
 "nbformat_minor": 5
}
