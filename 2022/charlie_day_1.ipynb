{
 "cells": [
  {
   "cell_type": "markdown",
   "id": "0f466eb0-203c-4314-b123-6e40dfa67c6e",
   "metadata": {},
   "source": [
    "# Load the test data from the problem statement\n",
    "- This simplifies initial testing"
   ]
  },
  {
   "cell_type": "code",
   "execution_count": null,
   "id": "a5d5d3a5-1e5b-4e96-90ad-6f980436e017",
   "metadata": {},
   "outputs": [],
   "source": [
    "example_text = \"\"\"\n",
    "1000\n",
    "2000\n",
    "3000\n",
    "\n",
    "4000\n",
    "\n",
    "5000\n",
    "6000\n",
    "\n",
    "7000\n",
    "8000\n",
    "9000\n",
    "\n",
    "10000\n",
    "\"\"\"\n",
    "example_lines = example_text.strip().split(\"\\n\")"
   ]
  },
  {
   "cell_type": "markdown",
   "id": "742cd7f7-be3b-41e1-afcc-855d76fe07dd",
   "metadata": {},
   "source": [
    "# Load the input data for the actual problem"
   ]
  },
  {
   "cell_type": "code",
   "execution_count": null,
   "id": "404d2002-805d-49e1-a2cd-dfe99189308d",
   "metadata": {},
   "outputs": [],
   "source": [
    "with open(\"2022/input_files/day_1_input.txt\") as f:\n",
    "    lines = f.readlines()"
   ]
  },
  {
   "cell_type": "markdown",
   "id": "69b97889-3535-46cc-920c-acc0cfa7b548",
   "metadata": {},
   "source": [
    "# Solution"
   ]
  },
  {
   "cell_type": "markdown",
   "id": "419b9269-3088-47b4-b134-5e3b4465f4f2",
   "metadata": {},
   "source": [
    "## Part 2"
   ]
  },
  {
   "cell_type": "code",
   "execution_count": null,
   "id": "56e1c766-6670-4127-b464-c8ea5112252b",
   "metadata": {},
   "outputs": [],
   "source": [
    "elves = []\n",
    "total = 0\n",
    "for item in lines:\n",
    "    if not item.strip().isnumeric():\n",
    "        elves.append(total)\n",
    "        total = 0\n",
    "    else:\n",
    "        total += int(item)\n",
    "elves.sort()\n",
    "elves[-1]"
   ]
  },
  {
   "cell_type": "markdown",
   "id": "790c8dc9-558b-4ba1-ad44-3ce41be824bf",
   "metadata": {},
   "source": [
    "## Part 2"
   ]
  },
  {
   "cell_type": "code",
   "execution_count": null,
   "id": "98cbd5b5-b266-4b79-b520-d1458efa9ca0",
   "metadata": {},
   "outputs": [],
   "source": [
    "sum(elves[-3:])"
   ]
  }
 ],
 "metadata": {
  "kernelspec": {
   "display_name": "Python 3 (ipykernel)",
   "language": "python",
   "name": "python3"
  },
  "language_info": {
   "codemirror_mode": {
    "name": "ipython",
    "version": 3
   },
   "file_extension": ".py",
   "mimetype": "text/x-python",
   "name": "python",
   "nbconvert_exporter": "python",
   "pygments_lexer": "ipython3",
   "version": "3.11.0"
  }
 },
 "nbformat": 4,
 "nbformat_minor": 5
}
