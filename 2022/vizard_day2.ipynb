{
 "cells": [
  {
   "cell_type": "code",
   "execution_count": 7,
   "metadata": {},
   "outputs": [],
   "source": [
    "input_data = \"\"\"A Y\n",
    "B X\n",
    "C Z\"\"\"\n"
   ]
  },
  {
   "cell_type": "code",
   "execution_count": 8,
   "metadata": {},
   "outputs": [],
   "source": [
    "win_condition = values = {\"A\": \"Y\", \"B\": \"Z\", \"C\": \"X\"}\n",
    "draw_condition = values = {\"A\": \"X\", \"B\": \"Y\", \"C\": \"Z\"}\n",
    "lose_condition = values = {\"A\": \"Z\", \"B\": \"X\", \"C\": \"Y\"}\n",
    "\n",
    "values_dict = {\"X\": 1, \"Y\": 2, \"Z\": 3}"
   ]
  },
  {
   "cell_type": "markdown",
   "metadata": {},
   "source": [
    "# Part 1\n"
   ]
  },
  {
   "cell_type": "code",
   "execution_count": 9,
   "metadata": {},
   "outputs": [
    {
     "data": {
      "text/plain": [
       "15"
      ]
     },
     "execution_count": 9,
     "metadata": {},
     "output_type": "execute_result"
    }
   ],
   "source": [
    "def get_game_score(col1, col2):\n",
    "    if win_condition[col1] == col2:\n",
    "        return 6 + values_dict[col2]\n",
    "    elif draw_condition[col1] == col2:\n",
    "        return 3 + values_dict[col2]\n",
    "    return 0 + values_dict[col2]\n",
    "\n",
    "\n",
    "total_score = 0\n",
    "for value in input_data.split(\"\\n\"):\n",
    "    col1, col2 = value[0], value[2]\n",
    "    total_score += get_game_score(col1,col2)\n",
    "\n",
    "total_score\n"
   ]
  },
  {
   "cell_type": "markdown",
   "metadata": {},
   "source": [
    "# Part 2"
   ]
  },
  {
   "cell_type": "code",
   "execution_count": 10,
   "metadata": {},
   "outputs": [
    {
     "data": {
      "text/plain": [
       "12"
      ]
     },
     "execution_count": 10,
     "metadata": {},
     "output_type": "execute_result"
    }
   ],
   "source": [
    "def get_game_score(col1, col2):\n",
    "    if col2 == \"Z\":\n",
    "        return 6 + values_dict[win_condition[col1]]\n",
    "    elif col2 == \"X\":\n",
    "        return 0 + values_dict[lose_condition[col1]]\n",
    "    return 3 + values_dict[draw_condition[col1]]\n",
    "\n",
    "\n",
    "total_score = 0\n",
    "for value in input_data.split(\"\\n\"):\n",
    "    col1, col2 = value[0], value[2]\n",
    "    total_score += get_game_score(col1, col2)\n",
    "\n",
    "total_score"
   ]
  }
 ],
 "metadata": {
  "kernelspec": {
   "display_name": "Python 3.11.0 64-bit ('aventofcode')",
   "language": "python",
   "name": "python3"
  },
  "language_info": {
   "codemirror_mode": {
    "name": "ipython",
    "version": 3
   },
   "file_extension": ".py",
   "mimetype": "text/x-python",
   "name": "python",
   "nbconvert_exporter": "python",
   "pygments_lexer": "ipython3",
   "version": "3.11.0"
  },
  "orig_nbformat": 4,
  "vscode": {
   "interpreter": {
    "hash": "216dcf3d6d332ffb5e6a40a33649c90bb5cbf19875abcdcced961c691d741e8d"
   }
  }
 },
 "nbformat": 4,
 "nbformat_minor": 2
}
