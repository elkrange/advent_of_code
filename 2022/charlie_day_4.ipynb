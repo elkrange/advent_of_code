{
 "cells": [
  {
   "cell_type": "code",
   "execution_count": null,
   "id": "1718b89d-9305-4dd3-a73e-6edd5cdcbce2",
   "metadata": {},
   "outputs": [],
   "source": [
    "example_text = \"\"\"\n",
    "    2-4,6-8\n",
    "    2-3,4-5\n",
    "    5-7,7-9\n",
    "    2-8,3-7\n",
    "    6-6,4-6\n",
    "    2-6,4-8\n",
    "\"\"\"\n",
    "\n",
    "input_data = example_text.strip().split()\n",
    "input_data"
   ]
  },
  {
   "cell_type": "code",
   "execution_count": null,
   "id": "8c3c78b5-93fd-4ca0-a363-e4570ea71456",
   "metadata": {},
   "outputs": [],
   "source": [
    "with open(\"input_files/day_4_input.txt\", \"r\") as f:\n",
    "    lines = f.readlines()\n",
    "input_data = [line.strip() for line in lines]"
   ]
  },
  {
   "cell_type": "code",
   "execution_count": null,
   "id": "1e946896-8d0d-491f-8a95-d61dc5b055e3",
   "metadata": {},
   "outputs": [],
   "source": [
    "subset_count = 0\n",
    "for item in input_data:\n",
    "    elves = item.split(\",\")\n",
    "    elf_sections = []\n",
    "    for elf in elves:\n",
    "        ends = elf.split(\"-\")\n",
    "        sections = set(range(int(ends[0]), int(ends[1]) + 1))\n",
    "        elf_sections.append(sections)\n",
    "    if elf_sections[0].issubset(elf_sections[1]) or elf_sections[1].issubset(\n",
    "        elf_sections[0]\n",
    "    ):\n",
    "        subset_count += 1\n",
    "subset_count"
   ]
  },
  {
   "cell_type": "code",
   "execution_count": null,
   "id": "755ddb91-bbcc-4825-9f34-2a8d37ca4b9e",
   "metadata": {},
   "outputs": [],
   "source": [
    "intersect_count = 0\n",
    "for item in input_data:\n",
    "    elves = item.split(\",\")\n",
    "    elf_sections = []\n",
    "    for elf in elves:\n",
    "        ends = elf.split(\"-\")\n",
    "        sections = set(range(int(ends[0]), int(ends[1]) + 1))\n",
    "        elf_sections.append(sections)\n",
    "    if elf_sections[0].intersection(elf_sections[1]) != set():\n",
    "        intersect_count += 1\n",
    "intersect_count"
   ]
  }
 ],
 "metadata": {
  "kernelspec": {
   "display_name": "Python 3 (ipykernel)",
   "language": "python",
   "name": "python3"
  },
  "language_info": {
   "codemirror_mode": {
    "name": "ipython",
    "version": 3
   },
   "file_extension": ".py",
   "mimetype": "text/x-python",
   "name": "python",
   "nbconvert_exporter": "python",
   "pygments_lexer": "ipython3",
   "version": "3.11.0"
  }
 },
 "nbformat": 4,
 "nbformat_minor": 5
}
