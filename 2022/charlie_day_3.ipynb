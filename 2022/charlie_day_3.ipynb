{
 "cells": [
  {
   "cell_type": "markdown",
   "id": "fcece86c-6c9c-4996-9b0e-abd74293b46a",
   "metadata": {},
   "source": [
    "# Example data from problem statement"
   ]
  },
  {
   "cell_type": "code",
   "execution_count": null,
   "id": "f9c4a7cc-063b-4605-be6a-b454d206759e",
   "metadata": {},
   "outputs": [],
   "source": [
    "example_text = \"\"\"\n",
    "vJrwpWtwJgWrhcsFMMfFFhFp\n",
    "jqHRNqRjqzjGDLGLrsFMfFZSrLrFZsSL\n",
    "PmmdzqPrVvPwwTWBwg\n",
    "wMqvLMZHhHMvwLHjbvcjnnSBnvTQFn\n",
    "ttgJtRGJQctTZtZT\n",
    "CrZsJsPPZsGzwwsLwLmpwMDw\n",
    "\"\"\"\n",
    "\n",
    "input_data = example_text.strip().split(\"\\n\")\n",
    "input_data"
   ]
  },
  {
   "cell_type": "markdown",
   "id": "981830d1-2644-446d-9687-1712c37c7d71",
   "metadata": {},
   "source": [
    "# Load problem data from file"
   ]
  },
  {
   "cell_type": "code",
   "execution_count": null,
   "id": "50fac2ba-9d89-4ec8-b002-7e4f1e729023",
   "metadata": {},
   "outputs": [],
   "source": [
    "with open(\"input_files/day_3_input.txt\", \"r\") as f:\n",
    "    input_data = f.readlines()"
   ]
  },
  {
   "cell_type": "markdown",
   "id": "9f98f9a2-c560-406b-87f4-60facfee308e",
   "metadata": {},
   "source": [
    "# Solution"
   ]
  },
  {
   "cell_type": "markdown",
   "id": "00cf70f2-26ef-4e37-ace2-b5209dbe11ee",
   "metadata": {},
   "source": [
    "## Part 1"
   ]
  },
  {
   "cell_type": "code",
   "execution_count": null,
   "id": "b1014d84-2eb2-46c6-8858-bfb164a22efe",
   "metadata": {},
   "outputs": [],
   "source": [
    "def ch_value(ch: str) -> int:\n",
    "    \"\"\"This helper function takes a string (expected to be a single character) and maps the value of the character per the problem statement\"\"\"\n",
    "    val = ord(ch)\n",
    "    if ch.isupper():\n",
    "        val += -38\n",
    "    else:\n",
    "        val += -96\n",
    "    return val"
   ]
  },
  {
   "cell_type": "code",
   "execution_count": null,
   "id": "30a31056-668f-4fc1-adef-6c3b785f9947",
   "metadata": {},
   "outputs": [],
   "source": [
    "values = []\n",
    "for item in input_data:\n",
    "    item_count = len(item.strip())\n",
    "    comp1 = set(item[: item_count // 2])\n",
    "    comp2 = set(item[item_count // 2 :])\n",
    "    values.append(ch_value(comp1.intersection(comp2).pop()))\n",
    "print(sum(values))"
   ]
  },
  {
   "cell_type": "markdown",
   "id": "bb31aa73-063f-4924-a666-267f450f6297",
   "metadata": {},
   "source": [
    "## Part 2"
   ]
  },
  {
   "cell_type": "code",
   "execution_count": null,
   "id": "99843f3e-e6a8-4413-aec5-1cd0feee13c5",
   "metadata": {},
   "outputs": [],
   "source": [
    "chunked_list = []\n",
    "chunk_size = 3\n",
    "\n",
    "for idx in range(0, len(input_data), chunk_size):\n",
    "    chunked_list.append(input_data[idx : idx + chunk_size])\n",
    "\n",
    "part2_values = []\n",
    "for chunk in chunked_list:\n",
    "    common_ch = (\n",
    "        set(chunk[0].strip())\n",
    "        .intersection(set(chunk[1].strip()), set(chunk[2].strip()))\n",
    "        .pop()\n",
    "    )\n",
    "    part2_values.append(ch_value(common_ch))\n",
    "print(sum(part2_values))"
   ]
  }
 ],
 "metadata": {
  "kernelspec": {
   "display_name": "Python 3 (ipykernel)",
   "language": "python",
   "name": "python3"
  },
  "language_info": {
   "codemirror_mode": {
    "name": "ipython",
    "version": 3
   },
   "file_extension": ".py",
   "mimetype": "text/x-python",
   "name": "python",
   "nbconvert_exporter": "python",
   "pygments_lexer": "ipython3",
   "version": "3.11.0"
  }
 },
 "nbformat": 4,
 "nbformat_minor": 5
}
