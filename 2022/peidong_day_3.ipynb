{
 "cells": [
  {
   "cell_type": "code",
   "execution_count": 1,
   "id": "7eb0c01a",
   "metadata": {},
   "outputs": [],
   "source": [
    "data = !curl https://adventofcode.com/2022/day/3/input --cookie \"session=53616c7465645f5fcc5b7e1ab2f8d285d4a883a0b621cc8074991f953b7bb2ae2b7f5cf0d4ed6e00d6e1f10aeee8eab8780c35dd3a7a853ae5f15f6ccc4ae41d\""
   ]
  },
  {
   "cell_type": "code",
   "execution_count": 2,
   "id": "631d9d2e",
   "metadata": {},
   "outputs": [
    {
     "data": {
      "text/plain": [
       "'100  9890  100  9890    0     0  45807      0 --:--:-- --:--:-- --:--:-- 46872'"
      ]
     },
     "execution_count": 2,
     "metadata": {},
     "output_type": "execute_result"
    }
   ],
   "source": [
    "input_data = data [5:]\n",
    "input_data[0]"
   ]
  },
  {
   "cell_type": "code",
   "execution_count": 3,
   "id": "080a5f64",
   "metadata": {},
   "outputs": [
    {
     "data": {
      "text/plain": [
       "'bCTPTclcgRZQZCgs'"
      ]
     },
     "execution_count": 3,
     "metadata": {},
     "output_type": "execute_result"
    }
   ],
   "source": [
    "input_data[-1]"
   ]
  },
  {
   "cell_type": "code",
   "execution_count": 4,
   "id": "32babb8f",
   "metadata": {},
   "outputs": [
    {
     "data": {
      "text/plain": [
       "65"
      ]
     },
     "execution_count": 4,
     "metadata": {},
     "output_type": "execute_result"
    }
   ],
   "source": [
    "ord('A') "
   ]
  },
  {
   "cell_type": "code",
   "execution_count": 5,
   "id": "440d19c0",
   "metadata": {},
   "outputs": [
    {
     "data": {
      "text/plain": [
       "90"
      ]
     },
     "execution_count": 5,
     "metadata": {},
     "output_type": "execute_result"
    }
   ],
   "source": [
    "ord('Z')"
   ]
  },
  {
   "cell_type": "code",
   "execution_count": 6,
   "id": "52d1890b",
   "metadata": {},
   "outputs": [
    {
     "data": {
      "text/plain": [
       "97"
      ]
     },
     "execution_count": 6,
     "metadata": {},
     "output_type": "execute_result"
    }
   ],
   "source": [
    "ord('a') "
   ]
  },
  {
   "cell_type": "code",
   "execution_count": 7,
   "id": "2767608b",
   "metadata": {},
   "outputs": [],
   "source": [
    "def get_priority(x:str) -> int:\n",
    "    \n",
    "    uni_code_number = ord(x)\n",
    "    if ord('A') <= uni_code_number <= ord('Z'):\n",
    "        # upper cased\n",
    "        return uni_code_number -38\n",
    "    else:\n",
    "        return uni_code_number -96\n",
    "    "
   ]
  },
  {
   "cell_type": "code",
   "execution_count": 8,
   "id": "527cd307",
   "metadata": {},
   "outputs": [
    {
     "data": {
      "text/plain": [
       "29"
      ]
     },
     "execution_count": 8,
     "metadata": {},
     "output_type": "execute_result"
    }
   ],
   "source": [
    "get_priority('C')"
   ]
  },
  {
   "cell_type": "code",
   "execution_count": 9,
   "id": "ac2ba84e",
   "metadata": {},
   "outputs": [],
   "source": [
    "def get_common_word(long_str: str) -> str:\n",
    "    str_len = int(len(long_str))\n",
    "\n",
    "    left = set(long_str[: int(str_len/2)])\n",
    "    right = set(long_str[int(str_len/2):])\n",
    "\n",
    "    return left.intersection(right).pop()\n",
    "    "
   ]
  },
  {
   "cell_type": "code",
   "execution_count": 10,
   "id": "fe715003",
   "metadata": {},
   "outputs": [],
   "source": [
    "total_score = 0\n",
    "for i in input_data:\n",
    "    com_cha = get_common_word(i)\n",
    "    total_score +=  get_priority(com_cha)"
   ]
  },
  {
   "cell_type": "code",
   "execution_count": 11,
   "id": "158e6f01",
   "metadata": {},
   "outputs": [
    {
     "data": {
      "text/plain": [
       "7828"
      ]
     },
     "execution_count": 11,
     "metadata": {},
     "output_type": "execute_result"
    }
   ],
   "source": [
    "total_score"
   ]
  },
  {
   "cell_type": "code",
   "execution_count": null,
   "id": "8e8e142f",
   "metadata": {},
   "outputs": [],
   "source": []
  },
  {
   "cell_type": "code",
   "execution_count": null,
   "id": "a5bb6625",
   "metadata": {},
   "outputs": [],
   "source": []
  }
 ],
 "metadata": {
  "kernelspec": {
   "display_name": "Python 3 (ipykernel)",
   "language": "python",
   "name": "python3"
  },
  "language_info": {
   "codemirror_mode": {
    "name": "ipython",
    "version": 3
   },
   "file_extension": ".py",
   "mimetype": "text/x-python",
   "name": "python",
   "nbconvert_exporter": "python",
   "pygments_lexer": "ipython3",
   "version": "3.10.8"
  }
 },
 "nbformat": 4,
 "nbformat_minor": 5
}
