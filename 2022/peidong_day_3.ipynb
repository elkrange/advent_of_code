{
 "cells": [
  {
   "cell_type": "code",
   "execution_count": 12,
   "id": "7eb0c01a",
   "metadata": {},
   "outputs": [],
   "source": [
    "data = !curl https://adventofcode.com/2022/day/3/input --cookie \"session=53616c7465645f5fcc5b7e1ab2f8d285d4a883a0b621cc8074991f953b7bb2ae2b7f5cf0d4ed6e00d6e1f10aeee8eab8780c35dd3a7a853ae5f15f6ccc4ae41d\""
   ]
  },
  {
   "cell_type": "code",
   "execution_count": 13,
   "id": "631d9d2e",
   "metadata": {},
   "outputs": [
    {
     "data": {
      "text/plain": [
       "'tdltdtmhlRNCBcwmHr'"
      ]
     },
     "execution_count": 13,
     "metadata": {},
     "output_type": "execute_result"
    }
   ],
   "source": [
    "input_data = data [5:]\n",
    "input_data[0]"
   ]
  },
  {
   "cell_type": "code",
   "execution_count": 14,
   "id": "080a5f64",
   "metadata": {},
   "outputs": [
    {
     "data": {
      "text/plain": [
       "'bCTPTclcgRZQZCgs'"
      ]
     },
     "execution_count": 14,
     "metadata": {},
     "output_type": "execute_result"
    }
   ],
   "source": [
    "input_data[-1]"
   ]
  },
  {
   "cell_type": "code",
   "execution_count": 15,
   "id": "32babb8f",
   "metadata": {},
   "outputs": [
    {
     "data": {
      "text/plain": [
       "65"
      ]
     },
     "execution_count": 15,
     "metadata": {},
     "output_type": "execute_result"
    }
   ],
   "source": [
    "ord('A') "
   ]
  },
  {
   "cell_type": "code",
   "execution_count": 16,
   "id": "440d19c0",
   "metadata": {},
   "outputs": [
    {
     "data": {
      "text/plain": [
       "90"
      ]
     },
     "execution_count": 16,
     "metadata": {},
     "output_type": "execute_result"
    }
   ],
   "source": [
    "ord('Z')"
   ]
  },
  {
   "cell_type": "code",
   "execution_count": 17,
   "id": "52d1890b",
   "metadata": {},
   "outputs": [
    {
     "data": {
      "text/plain": [
       "97"
      ]
     },
     "execution_count": 17,
     "metadata": {},
     "output_type": "execute_result"
    }
   ],
   "source": [
    "ord('a') "
   ]
  },
  {
   "cell_type": "code",
   "execution_count": 18,
   "id": "2767608b",
   "metadata": {},
   "outputs": [],
   "source": [
    "def get_priority(x:str) -> int:\n",
    "    \n",
    "    uni_code_number = ord(x)\n",
    "    if ord('A') <= uni_code_number <= ord('Z'):\n",
    "        # upper cased\n",
    "        return uni_code_number -38\n",
    "    else:\n",
    "        return uni_code_number -96\n",
    "    "
   ]
  },
  {
   "cell_type": "code",
   "execution_count": 19,
   "id": "527cd307",
   "metadata": {},
   "outputs": [
    {
     "data": {
      "text/plain": [
       "29"
      ]
     },
     "execution_count": 19,
     "metadata": {},
     "output_type": "execute_result"
    }
   ],
   "source": [
    "get_priority('C')"
   ]
  },
  {
   "cell_type": "code",
   "execution_count": 20,
   "id": "ac2ba84e",
   "metadata": {},
   "outputs": [],
   "source": [
    "def get_common_word(long_str: str) -> str:\n",
    "    str_len = int(len(long_str))\n",
    "\n",
    "    left = set(long_str[: int(str_len/2)])\n",
    "    right = set(long_str[int(str_len/2):])\n",
    "\n",
    "    return left.intersection(right).pop()\n",
    "    "
   ]
  },
  {
   "cell_type": "code",
   "execution_count": 21,
   "id": "fe715003",
   "metadata": {},
   "outputs": [],
   "source": [
    "total_score = 0\n",
    "for i in input_data:\n",
    "    com_cha = get_common_word(i)\n",
    "    total_score +=  get_priority(com_cha)"
   ]
  },
  {
   "cell_type": "code",
   "execution_count": 22,
   "id": "158e6f01",
   "metadata": {},
   "outputs": [
    {
     "data": {
      "text/plain": [
       "7872"
      ]
     },
     "execution_count": 22,
     "metadata": {},
     "output_type": "execute_result"
    }
   ],
   "source": [
    "total_score"
   ]
  },
  {
   "cell_type": "markdown",
   "id": "bf8b2caa",
   "metadata": {},
   "source": [
    "# PART 2"
   ]
  },
  {
   "cell_type": "code",
   "execution_count": 53,
   "id": "a5bb6625",
   "metadata": {},
   "outputs": [
    {
     "data": {
      "text/plain": [
       "10369"
      ]
     },
     "execution_count": 53,
     "metadata": {},
     "output_type": "execute_result"
    }
   ],
   "source": [
    "from more_itertools import chunked\n",
    "\n",
    "for group in chunked(input_data,3):\n",
    "    e_1, e_2, e_3 = group\n",
    "    type_b = set(e_1).intersection(set(e_2)).intersection(set(e_3)).pop()\n",
    "    total_score +=  get_priority(type_b)\n",
    "\n",
    "total_score"
   ]
  },
  {
   "cell_type": "code",
   "execution_count": 48,
   "id": "a033a3dc",
   "metadata": {},
   "outputs": [
    {
     "data": {
      "text/plain": [
       "948"
      ]
     },
     "execution_count": 48,
     "metadata": {},
     "output_type": "execute_result"
    }
   ],
   "source": [
    "sum(group_set)"
   ]
  },
  {
   "cell_type": "code",
   "execution_count": 49,
   "id": "1e152859",
   "metadata": {},
   "outputs": [
    {
     "data": {
      "text/plain": [
       "948"
      ]
     },
     "execution_count": 49,
     "metadata": {},
     "output_type": "execute_result"
    }
   ],
   "source": [
    "sum(total)"
   ]
  },
  {
   "cell_type": "code",
   "execution_count": null,
   "id": "9ec70d70",
   "metadata": {},
   "outputs": [],
   "source": []
  }
 ],
 "metadata": {
  "kernelspec": {
   "display_name": "Python 3 (ipykernel)",
   "language": "python",
   "name": "python3"
  },
  "language_info": {
   "codemirror_mode": {
    "name": "ipython",
    "version": 3
   },
   "file_extension": ".py",
   "mimetype": "text/x-python",
   "name": "python",
   "nbconvert_exporter": "python",
   "pygments_lexer": "ipython3",
   "version": "3.10.8"
  }
 },
 "nbformat": 4,
 "nbformat_minor": 5
}
