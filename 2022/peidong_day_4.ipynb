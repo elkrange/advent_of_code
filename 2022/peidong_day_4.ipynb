{
 "cells": [
  {
   "cell_type": "code",
   "execution_count": 1,
   "id": "30d733ca",
   "metadata": {},
   "outputs": [
    {
     "data": {
      "text/plain": [
       "['  % Total    % Received % Xferd  Average Speed   Time    Time     Time  Current',\n",
       " '                                 Dload  Upload   Total   Spent    Left  Speed',\n",
       " '',\n",
       " '  0     0    0     0    0     0      0      0 --:--:-- --:--:-- --:--:--     0',\n",
       " '100 11374  100 11374    0     0  56645      0 --:--:-- --:--:-- --:--:-- 58328',\n",
       " '60-60,45-60']"
      ]
     },
     "execution_count": 1,
     "metadata": {},
     "output_type": "execute_result"
    }
   ],
   "source": [
    "data = !curl https://adventofcode.com/2022/day/4/input --cookie \"session=53616c7465645f5fcc5b7e1ab2f8d285d4a883a0b621cc8074991f953b7bb2ae2b7f5cf0d4ed6e00d6e1f10aeee8eab8780c35dd3a7a853ae5f15f6ccc4ae41d\"\n",
    "    \n",
    "data[:6]"
   ]
  },
  {
   "cell_type": "code",
   "execution_count": 2,
   "id": "c337cc4a",
   "metadata": {},
   "outputs": [
    {
     "data": {
      "text/plain": [
       "'60-60,45-60'"
      ]
     },
     "execution_count": 2,
     "metadata": {},
     "output_type": "execute_result"
    }
   ],
   "source": [
    "input_data = data [5:]\n",
    "input_data[0]"
   ]
  },
  {
   "cell_type": "code",
   "execution_count": 3,
   "id": "a14e8799",
   "metadata": {},
   "outputs": [
    {
     "data": {
      "text/plain": [
       "'9-76,3-77'"
      ]
     },
     "execution_count": 3,
     "metadata": {},
     "output_type": "execute_result"
    }
   ],
   "source": [
    "input_data[-1]"
   ]
  },
  {
   "cell_type": "code",
   "execution_count": 4,
   "id": "b58d2e7d",
   "metadata": {},
   "outputs": [],
   "source": [
    "full_contain_count = 0 \n",
    "\n",
    "for pair in input_data:\n",
    "    elf_1, elf_2 = pair.split(',')\n",
    "    \n",
    "    elf_1_0, elf_1_1 = elf_1.split('-')\n",
    "    elf_2_0, elf_2_1 = elf_2.split('-')\n",
    "    \n",
    "    case_1 = (int(elf_1_0) <= int(elf_2_0)) and (int(elf_1_1) >= int(elf_2_1))\n",
    "    case_2 = (int(elf_2_0) <= int(elf_1_0)) and (int(elf_2_1) >= int(elf_1_1))\n",
    "    \n",
    "    if case_1 or case_2:\n",
    "        full_contain_count += 1\n",
    "        \n"
   ]
  },
  {
   "cell_type": "code",
   "execution_count": 5,
   "id": "307d8652",
   "metadata": {},
   "outputs": [
    {
     "data": {
      "text/plain": [
       "431"
      ]
     },
     "execution_count": 5,
     "metadata": {},
     "output_type": "execute_result"
    }
   ],
   "source": [
    "full_contain_count"
   ]
  },
  {
   "cell_type": "code",
   "execution_count": null,
   "id": "3ed800df",
   "metadata": {},
   "outputs": [],
   "source": []
  },
  {
   "cell_type": "code",
   "execution_count": null,
   "id": "9e070ffd",
   "metadata": {},
   "outputs": [],
   "source": []
  }
 ],
 "metadata": {
  "kernelspec": {
   "display_name": "Python 3 (ipykernel)",
   "language": "python",
   "name": "python3"
  },
  "language_info": {
   "codemirror_mode": {
    "name": "ipython",
    "version": 3
   },
   "file_extension": ".py",
   "mimetype": "text/x-python",
   "name": "python",
   "nbconvert_exporter": "python",
   "pygments_lexer": "ipython3",
   "version": "3.10.8"
  }
 },
 "nbformat": 4,
 "nbformat_minor": 5
}
