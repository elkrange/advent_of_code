{
 "cells": [
  {
   "cell_type": "markdown",
   "metadata": {},
   "source": [
    "# Part 1"
   ]
  },
  {
   "cell_type": "code",
   "execution_count": 13,
   "metadata": {},
   "outputs": [],
   "source": [
    "input_data=\"\"\"NLBLfrNNLvqwbMfDqSjSzzSJjjggcdVs\n",
    "lTRGPPZnRRHszcsZdSsccZ\n",
    "CFTTFtFHTtCtDDzrmBtrBD\"\"\""
   ]
  },
  {
   "cell_type": "code",
   "execution_count": 14,
   "metadata": {},
   "outputs": [],
   "source": [
    "def get_value(character):\n",
    "    value = ord(character)\n",
    "    if value <= 90:\n",
    "        return value -  38\n",
    "    elif value <= 122:\n",
    "        return value - 96"
   ]
  },
  {
   "cell_type": "code",
   "execution_count": 15,
   "metadata": {},
   "outputs": [
    {
     "data": {
      "text/plain": [
       "89"
      ]
     },
     "execution_count": 15,
     "metadata": {},
     "output_type": "execute_result"
    }
   ],
   "source": [
    "total_value = 0\n",
    "for rucksack in input_data.split('\\n'):\n",
    "    size = int(len(rucksack)/2)\n",
    "    first_half = set(rucksack[:size])\n",
    "    second_half = set(rucksack[size:])\n",
    "    intersection = first_half.intersection(second_half)\n",
    "    total_value += sum([get_value(i) for i in intersection])\n",
    "total_value"
   ]
  },
  {
   "cell_type": "markdown",
   "metadata": {},
   "source": [
    "# Part 2"
   ]
  },
  {
   "cell_type": "code",
   "execution_count": 16,
   "metadata": {},
   "outputs": [],
   "source": [
    "input_data = \"\"\"NLBLfrNNLvqwbMfDqSjSzzSJjjggcdVs\n",
    "lTRGPPZnRRHszcsZdSsccZ\n",
    "CFTTFtFHTtCtDDzrmBtrBD\"\"\""
   ]
  },
  {
   "cell_type": "code",
   "execution_count": 17,
   "metadata": {},
   "outputs": [],
   "source": [
    "from more_itertools import chunked"
   ]
  },
  {
   "cell_type": "code",
   "execution_count": 18,
   "metadata": {},
   "outputs": [
    {
     "data": {
      "text/plain": [
       "26"
      ]
     },
     "execution_count": 18,
     "metadata": {},
     "output_type": "execute_result"
    }
   ],
   "source": [
    "total_value = 0\n",
    "for rucksack_group in chunked(input_data.split('\\n'),3):\n",
    "    rucksack1,rucksack2,rucksack3=rucksack_group\n",
    "    intersection = set(rucksack1).intersection(set(rucksack2)).intersection(set(rucksack3))\n",
    "    total_value += sum([get_value(i) for i in intersection])\n",
    "total_value"
   ]
  }
 ],
 "metadata": {
  "kernelspec": {
   "display_name": "Python 3.11.0 64-bit ('aventofcode')",
   "language": "python",
   "name": "python3"
  },
  "language_info": {
   "codemirror_mode": {
    "name": "ipython",
    "version": 3
   },
   "file_extension": ".py",
   "mimetype": "text/x-python",
   "name": "python",
   "nbconvert_exporter": "python",
   "pygments_lexer": "ipython3",
   "version": "3.11.0"
  },
  "orig_nbformat": 4,
  "vscode": {
   "interpreter": {
    "hash": "216dcf3d6d332ffb5e6a40a33649c90bb5cbf19875abcdcced961c691d741e8d"
   }
  }
 },
 "nbformat": 4,
 "nbformat_minor": 2
}
