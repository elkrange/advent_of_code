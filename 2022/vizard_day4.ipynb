{
 "cells": [
  {
   "cell_type": "code",
   "execution_count": 7,
   "metadata": {},
   "outputs": [],
   "source": [
    "input_data = \"\"\"8-41,8-79\n",
    "1-71,2-71\n",
    "11-74,74-75\n",
    "12-96,44-59\"\"\"\n"
   ]
  },
  {
   "cell_type": "markdown",
   "metadata": {},
   "source": [
    "# Part 1\n"
   ]
  },
  {
   "cell_type": "code",
   "execution_count": 8,
   "metadata": {},
   "outputs": [],
   "source": [
    "def check_subset(range1,range2):# A in B\n",
    "    start1,end1 = int(range1[0]),int(range1[1])\n",
    "    start2,end2= int(range2[0]),int(range2[1])\n",
    "    return (start1 >= start2) and (start1<=end2) and (end1>=start2) and (end1<=end2)"
   ]
  },
  {
   "cell_type": "code",
   "execution_count": 9,
   "metadata": {},
   "outputs": [
    {
     "data": {
      "text/plain": [
       "3"
      ]
     },
     "execution_count": 9,
     "metadata": {},
     "output_type": "execute_result"
    }
   ],
   "source": [
    "subset_count = 0\n",
    "for ranges in input_data.split(\"\\n\"):\n",
    "    range1,range2=ranges.split(',')\n",
    "    range1 = range1.split('-')\n",
    "    range2 = range2.split('-')\n",
    "    subset_count += 1 if check_subset(range1,range2) or check_subset(range2,range1) else 0\n",
    "subset_count"
   ]
  },
  {
   "cell_type": "markdown",
   "metadata": {},
   "source": [
    "# Part 2"
   ]
  },
  {
   "cell_type": "code",
   "execution_count": 10,
   "metadata": {},
   "outputs": [],
   "source": [
    "input_data =\"\"\"8-41,8-79\n",
    "58-83,59-83\n",
    "12-96,44-59\"\"\""
   ]
  },
  {
   "cell_type": "code",
   "execution_count": 11,
   "metadata": {},
   "outputs": [],
   "source": [
    "def check_overlap(range1,range2):# A intersection B\n",
    "    start1,end1 = int(range1[0]),int(range1[1])\n",
    "    start2,end2= int(range2[0]),int(range2[1])\n",
    "    return (start1 >= start2) and (start1<=end2) or (end1>=start2) and (end1<=end2)\n"
   ]
  },
  {
   "cell_type": "code",
   "execution_count": 12,
   "metadata": {},
   "outputs": [
    {
     "data": {
      "text/plain": [
       "3"
      ]
     },
     "execution_count": 12,
     "metadata": {},
     "output_type": "execute_result"
    }
   ],
   "source": [
    "subset_count = 0\n",
    "for ranges in input_data.split(\"\\n\"):\n",
    "    range1,range2=ranges.split(',')\n",
    "    range1 = range1.split('-')\n",
    "    range2 = range2.split('-')\n",
    "    subset_count += 1 if check_overlap(range1, range2) or check_overlap(range2, range1) else 0\n",
    "subset_count"
   ]
  }
 ],
 "metadata": {
  "kernelspec": {
   "display_name": "Python 3.11.0 64-bit ('aventofcode')",
   "language": "python",
   "name": "python3"
  },
  "language_info": {
   "codemirror_mode": {
    "name": "ipython",
    "version": 3
   },
   "file_extension": ".py",
   "mimetype": "text/x-python",
   "name": "python",
   "nbconvert_exporter": "python",
   "pygments_lexer": "ipython3",
   "version": "3.11.0"
  },
  "orig_nbformat": 4,
  "vscode": {
   "interpreter": {
    "hash": "216dcf3d6d332ffb5e6a40a33649c90bb5cbf19875abcdcced961c691d741e8d"
   }
  }
 },
 "nbformat": 4,
 "nbformat_minor": 2
}
