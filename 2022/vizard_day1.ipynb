{
 "cells": [
  {
   "cell_type": "code",
   "execution_count": 1,
   "metadata": {},
   "outputs": [],
   "source": [
    "input_data = \"\"\"\n",
    "\"\"\"\n"
   ]
  },
  {
   "cell_type": "markdown",
   "metadata": {},
   "source": [
    "# Part 1"
   ]
  },
  {
   "cell_type": "code",
   "execution_count": 2,
   "metadata": {},
   "outputs": [
    {
     "name": "stdout",
     "output_type": "stream",
     "text": [
      "70296\n"
     ]
    }
   ],
   "source": [
    "\n",
    "top_calories = -1\n",
    "current = 0\n",
    "for number in input_data.split(\"\\n\"):\n",
    "    if number == \"\":\n",
    "        top_calories = max(top_calories, current)\n",
    "        current = 0\n",
    "        continue\n",
    "    current += int(number)\n",
    "\n",
    "print(top_calories)"
   ]
  },
  {
   "cell_type": "markdown",
   "metadata": {},
   "source": [
    "# Part 2"
   ]
  },
  {
   "cell_type": "code",
   "execution_count": 3,
   "metadata": {},
   "outputs": [
    {
     "name": "stdout",
     "output_type": "stream",
     "text": [
      "205381\n"
     ]
    }
   ],
   "source": [
    "top_calories = []\n",
    "current = 0\n",
    "for number in input_data.split(\"\\n\"):\n",
    "    if number == \"\":\n",
    "        top_calories.append(current)\n",
    "        current = 0\n",
    "        continue\n",
    "    current += int(number)\n",
    "\n",
    "top_calories.sort()\n",
    "print(sum(top_calories[-3:]))\n"
   ]
  }
 ],
 "metadata": {
  "kernelspec": {
   "display_name": "Python 3.10.6 64-bit ('maroon_bells')",
   "language": "python",
   "name": "python3"
  },
  "language_info": {
   "codemirror_mode": {
    "name": "ipython",
    "version": 3
   },
   "file_extension": ".py",
   "mimetype": "text/x-python",
   "name": "python",
   "nbconvert_exporter": "python",
   "pygments_lexer": "ipython3",
   "version": "3.10.6"
  },
  "orig_nbformat": 4,
  "vscode": {
   "interpreter": {
    "hash": "7abbffd5063a86e8c643912e86994bcc68244a6944650f6bb0c3f30287136004"
   }
  }
 },
 "nbformat": 4,
 "nbformat_minor": 2
}
