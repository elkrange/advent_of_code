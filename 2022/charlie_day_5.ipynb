{
 "cells": [
  {
   "cell_type": "code",
   "execution_count": null,
   "id": "26ea6fc6-3b34-4562-926d-be0c6304f439",
   "metadata": {},
   "outputs": [],
   "source": [
    "from collections import deque"
   ]
  },
  {
   "cell_type": "code",
   "execution_count": null,
   "id": "c87b7523-6379-4307-b7ac-ba2c97b819f7",
   "metadata": {},
   "outputs": [],
   "source": [
    "example_text = \"\"\"\n",
    "    [D]    \n",
    "[N] [C]    \n",
    "[Z] [M] [P]\n",
    " 1   2   3 \n",
    "\n",
    "move 1 from 2 to 1\n",
    "move 3 from 1 to 3\n",
    "move 2 from 2 to 1\n",
    "move 1 from 1 to 2\n",
    "\"\"\"\n",
    "lines = [line for line in example_text.splitlines() if len(line) > 0]"
   ]
  },
  {
   "cell_type": "code",
   "execution_count": null,
   "id": "0e817543-636a-4e7a-83d5-d5e9b1372d09",
   "metadata": {},
   "outputs": [],
   "source": [
    "with open(\"input_files/day_5_input.txt\", \"r\") as f:\n",
    "    raw_lines = f.readlines()\n",
    "lines = [line.strip() for line in raw_lines if len(line.strip()) > 0]"
   ]
  },
  {
   "cell_type": "markdown",
   "id": "44662149-6981-4ba1-857f-50f260dca7bf",
   "metadata": {},
   "source": [
    "# Solution"
   ]
  },
  {
   "cell_type": "code",
   "execution_count": null,
   "id": "e734e6bf-781e-410e-99ed-22a9a3309f6d",
   "metadata": {},
   "outputs": [],
   "source": [
    "column_width = 4\n",
    "stack_count = (len(lines[0]) + 1) // column_width"
   ]
  },
  {
   "cell_type": "markdown",
   "id": "07a509da-ee32-41b9-b7ac-e03002dfb8ab",
   "metadata": {},
   "source": [
    "## Part 1"
   ]
  },
  {
   "cell_type": "code",
   "execution_count": null,
   "id": "cc980531-c247-48e8-b1a7-d2a20922f0a2",
   "metadata": {},
   "outputs": [],
   "source": [
    "stacks = [deque() for stack in range(stack_count)]\n",
    "for line_no, line in enumerate(lines):\n",
    "    if \"1\" in line:\n",
    "        moves_line_idx = line_no + 1\n",
    "        break\n",
    "    for idx, stack in enumerate(stacks):\n",
    "        start = idx * column_width\n",
    "        end = start + column_width\n",
    "        value = line[start:end].strip()\n",
    "        if value != \"\":\n",
    "            stack.appendleft(value[1])\n",
    "for line in lines[moves_line_idx:]:\n",
    "    line_split = line.split(\" \")\n",
    "    item_count = int(line_split[1])\n",
    "    source_stack = stacks[int(line_split[3]) - 1]\n",
    "    destination_stack = stacks[int(line_split[5]) - 1]\n",
    "    for j in range(item_count):\n",
    "        destination_stack.append(source_stack.pop())\n",
    "\"\".join([stack.pop() for stack in stacks])"
   ]
  },
  {
   "cell_type": "markdown",
   "id": "c810107a-70e8-4b3b-aa4f-fcc0866d6f71",
   "metadata": {},
   "source": [
    "## Part 2"
   ]
  },
  {
   "cell_type": "code",
   "execution_count": null,
   "id": "9b8ed419-ce3e-45f8-a5fa-e6450a05d94d",
   "metadata": {},
   "outputs": [],
   "source": [
    "stacks = [[] for stack in range(stack_count)]\n",
    "for line_no, line in enumerate(lines):\n",
    "    if \"1\" in line:\n",
    "        moves_line_idx = line_no + 1\n",
    "        break\n",
    "    for idx, stack in enumerate(stacks):\n",
    "        start = idx * column_width\n",
    "        end = start + column_width\n",
    "        value = line[start:end].strip()\n",
    "        if value != \"\":\n",
    "            stack.append(value[1])\n",
    "for line in lines[moves_line_idx:]:\n",
    "    line_split = line.split(\" \")\n",
    "    item_count = int(line_split[1])\n",
    "    source_stack_idx = int(line_split[3]) - 1\n",
    "    destination_stack_idx = int(line_split[5]) - 1\n",
    "    source_stack = stacks[source_stack_idx]\n",
    "    destination_stack = stacks[destination_stack_idx]\n",
    "    # append left to destination\n",
    "    moving = source_stack[0:item_count]\n",
    "    moving.extend(destination_stack)\n",
    "    stacks[destination_stack_idx] = moving\n",
    "    # remove from source stack\n",
    "    del source_stack[0:item_count]\n",
    "\"\".join([stack[0] for stack in stacks])"
   ]
  }
 ],
 "metadata": {
  "kernelspec": {
   "display_name": "Python 3 (ipykernel)",
   "language": "python",
   "name": "python3"
  },
  "language_info": {
   "codemirror_mode": {
    "name": "ipython",
    "version": 3
   },
   "file_extension": ".py",
   "mimetype": "text/x-python",
   "name": "python",
   "nbconvert_exporter": "python",
   "pygments_lexer": "ipython3",
   "version": "3.11.0"
  }
 },
 "nbformat": 4,
 "nbformat_minor": 5
}
