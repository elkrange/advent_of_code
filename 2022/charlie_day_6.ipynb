{
 "cells": [
  {
   "cell_type": "code",
   "execution_count": null,
   "id": "73c1a0b3-3841-4bcd-b5ee-7f3748eca9a2",
   "metadata": {},
   "outputs": [],
   "source": [
    "lines = \"\"\"mjqjpqmgbljsphdztnvjfqwrcgsmlb\n",
    "bvwbjplbgvbhsrlpgdmjqwftvncz\n",
    "nppdvjthqldpwncqszvftbrmjlhg\n",
    "nznrnfrfntjfmvfwmzdfjlvtqnbhcprsg\n",
    "zcfzfwzzqfrljwzlrfnpqdbhtmscgvjw\"\"\""
   ]
  },
  {
   "cell_type": "code",
   "execution_count": null,
   "id": "489b1510-acde-4c64-89cf-a592745a3dc7",
   "metadata": {},
   "outputs": [],
   "source": [
    "with open(\"input_files/day_6_input.txt\", \"r\") as f:\n",
    "    lines = f.read()"
   ]
  },
  {
   "cell_type": "markdown",
   "id": "9fd45f08-b95b-460a-b39b-4e181c1b0e39",
   "metadata": {},
   "source": [
    "# Solution"
   ]
  },
  {
   "cell_type": "markdown",
   "id": "317263b6-2387-44d6-9556-530f62bbdecb",
   "metadata": {},
   "source": [
    "## Part 1"
   ]
  },
  {
   "cell_type": "code",
   "execution_count": null,
   "id": "15b734cd-1d31-4afd-8edb-7577f0906503",
   "metadata": {},
   "outputs": [],
   "source": [
    "SIGNAL_PREFIX_LEN = 3\n",
    "positions = []\n",
    "for line in lines.strip().splitlines():\n",
    "    signal = list(line)\n",
    "    for idx, letter in enumerate(signal):\n",
    "        trailing = set(signal[idx - SIGNAL_PREFIX_LEN : idx])\n",
    "        if len(trailing) < SIGNAL_PREFIX_LEN:\n",
    "            continue\n",
    "        if letter not in trailing:\n",
    "            break\n",
    "    positions.append(idx + 1)\n",
    "positions"
   ]
  },
  {
   "cell_type": "markdown",
   "id": "6882d5ce-2814-4b34-9fff-4e61508d382a",
   "metadata": {},
   "source": [
    "## Part 2"
   ]
  },
  {
   "cell_type": "code",
   "execution_count": null,
   "id": "d9357a29-ced1-425e-97a4-2bafbcfa6a7e",
   "metadata": {},
   "outputs": [],
   "source": [
    "MESSAGE_PREFIX_LEN = 13\n",
    "positions = []\n",
    "for line in lines.strip().splitlines():\n",
    "    signal = list(line)\n",
    "    for idx, letter in enumerate(signal):\n",
    "        trailing = set(signal[idx - MESSAGE_PREFIX_LEN : idx])\n",
    "        if len(trailing) < MESSAGE_PREFIX_LEN:\n",
    "            continue\n",
    "        if letter not in trailing:\n",
    "            break\n",
    "    positions.append(idx + 1)\n",
    "positions"
   ]
  }
 ],
 "metadata": {
  "kernelspec": {
   "display_name": "Python 3 (ipykernel)",
   "language": "python",
   "name": "python3"
  },
  "language_info": {
   "codemirror_mode": {
    "name": "ipython",
    "version": 3
   },
   "file_extension": ".py",
   "mimetype": "text/x-python",
   "name": "python",
   "nbconvert_exporter": "python",
   "pygments_lexer": "ipython3",
   "version": "3.11.0"
  }
 },
 "nbformat": 4,
 "nbformat_minor": 5
}
