{
 "cells": [
  {
   "cell_type": "code",
   "execution_count": 1,
   "id": "62bfb03b",
   "metadata": {},
   "outputs": [],
   "source": [
    "data = !curl https://adventofcode.com/2022/day/5/input --cookie \"session=53616c7465645f5fcc5b7e1ab2f8d285d4a883a0b621cc8074991f953b7bb2ae2b7f5cf0d4ed6e00d6e1f10aeee8eab8780c35dd3a7a853ae5f15f6ccc4ae41d\"\n",
    "    \n"
   ]
  },
  {
   "cell_type": "code",
   "execution_count": 2,
   "id": "da61209c",
   "metadata": {},
   "outputs": [
    {
     "data": {
      "text/plain": [
       "['  % Total    % Received % Xferd  Average Speed   Time    Time     Time  Current',\n",
       " '                                 Dload  Upload   Total   Spent    Left  Speed',\n",
       " '',\n",
       " '  0     0    0     0    0     0      0      0 --:--:-- --:--:-- --:--:--     0',\n",
       " '100  9953  100  9953    0     0  44399      0 --:--:-- --:--:-- --:--:-- 45866',\n",
       " '        [M]     [B]             [N]',\n",
       " '[T]     [H]     [V] [Q]         [H]',\n",
       " '[Q]     [N]     [H] [W] [T]     [Q]',\n",
       " '[V]     [P] [F] [Q] [P] [C]     [R]',\n",
       " '[C]     [D] [T] [N] [N] [L] [S] [J]',\n",
       " '[D] [V] [W] [R] [M] [G] [R] [N] [D]',\n",
       " '[S] [F] [Q] [Q] [F] [F] [F] [Z] [S]',\n",
       " '[N] [M] [F] [D] [R] [C] [W] [T] [M]',\n",
       " ' 1   2   3   4   5   6   7   8   9 ']"
      ]
     },
     "execution_count": 2,
     "metadata": {},
     "output_type": "execute_result"
    }
   ],
   "source": [
    "data[:14]"
   ]
  },
  {
   "cell_type": "code",
   "execution_count": 3,
   "id": "d0f79963",
   "metadata": {},
   "outputs": [
    {
     "data": {
      "text/plain": [
       "{'1': [],\n",
       " '2': [],\n",
       " '3': [],\n",
       " '4': [],\n",
       " '5': [],\n",
       " '6': [],\n",
       " '7': [],\n",
       " '8': [],\n",
       " '9': []}"
      ]
     },
     "execution_count": 3,
     "metadata": {},
     "output_type": "execute_result"
    }
   ],
   "source": [
    "ship = {str(i):[] for i in range(1,10)}\n",
    "ship"
   ]
  },
  {
   "cell_type": "markdown",
   "id": "450f7453",
   "metadata": {},
   "source": [
    "# Load ship 1st time"
   ]
  },
  {
   "cell_type": "code",
   "execution_count": 4,
   "id": "6384b172",
   "metadata": {},
   "outputs": [
    {
     "data": {
      "text/plain": [
       "['[N] [M] [F] [D] [R] [C] [W] [T] [M]',\n",
       " '[S] [F] [Q] [Q] [F] [F] [F] [Z] [S]',\n",
       " '[D] [V] [W] [R] [M] [G] [R] [N] [D]',\n",
       " '[C]     [D] [T] [N] [N] [L] [S] [J]',\n",
       " '[V]     [P] [F] [Q] [P] [C]     [R]',\n",
       " '[Q]     [N]     [H] [W] [T]     [Q]',\n",
       " '[T]     [H]     [V] [Q]         [H]',\n",
       " '        [M]     [B]             [N]']"
      ]
     },
     "execution_count": 4,
     "metadata": {},
     "output_type": "execute_result"
    }
   ],
   "source": [
    "int_load = data[5:]\n",
    "int_load = int_load[:8]\n",
    "int_load.reverse()\n",
    "\n",
    "int_load"
   ]
  },
  {
   "cell_type": "code",
   "execution_count": 5,
   "id": "6ff6f8e2",
   "metadata": {},
   "outputs": [
    {
     "data": {
      "text/plain": [
       "{'1': ['a'],\n",
       " '2': [],\n",
       " '3': [],\n",
       " '4': [],\n",
       " '5': [],\n",
       " '6': [],\n",
       " '7': [],\n",
       " '8': [],\n",
       " '9': []}"
      ]
     },
     "execution_count": 5,
     "metadata": {},
     "output_type": "execute_result"
    }
   ],
   "source": [
    "ship['1'].append('a')\n",
    "ship"
   ]
  },
  {
   "cell_type": "code",
   "execution_count": 6,
   "id": "76c3e74f",
   "metadata": {},
   "outputs": [
    {
     "data": {
      "text/plain": [
       "{'1': ['N', 'S', 'D', 'C', 'V', 'Q', 'T'],\n",
       " '2': ['M', 'F', 'V'],\n",
       " '3': ['F', 'Q', 'W', 'D', 'P', 'N', 'H', 'M'],\n",
       " '4': ['D', 'Q', 'R', 'T', 'F'],\n",
       " '5': ['R', 'F', 'M', 'N', 'Q', 'H', 'V', 'B'],\n",
       " '6': ['C', 'F', 'G', 'N', 'P', 'W', 'Q'],\n",
       " '7': ['W', 'F', 'R', 'L', 'C', 'T'],\n",
       " '8': ['T', 'Z', 'N', 'S'],\n",
       " '9': ['M', 'S', 'D', 'J', 'R', 'Q', 'H', 'N']}"
      ]
     },
     "execution_count": 6,
     "metadata": {},
     "output_type": "execute_result"
    }
   ],
   "source": [
    "ship = {str(i):[] for i in range(1,10)}\n",
    "\n",
    "for level in int_load:\n",
    "    a = []\n",
    "    stack_num = 1\n",
    "    \n",
    "    for i in range(1,35,4):\n",
    "        item = level[i]\n",
    "        \n",
    "        if item != ' ':\n",
    "            ship[str(stack_num)].append(item)\n",
    "        stack_num += 1\n",
    "        \n",
    "ship"
   ]
  },
  {
   "cell_type": "markdown",
   "id": "a3023a69",
   "metadata": {},
   "source": [
    "# Part 1"
   ]
  },
  {
   "cell_type": "code",
   "execution_count": 7,
   "id": "9c0a97b6",
   "metadata": {},
   "outputs": [],
   "source": [
    "commands = data[15:]\n",
    "a = commands[0]"
   ]
  },
  {
   "cell_type": "code",
   "execution_count": 8,
   "id": "cc317387",
   "metadata": {},
   "outputs": [
    {
     "data": {
      "text/plain": [
       "['move', '1', 'from', '8', 'to', '7']"
      ]
     },
     "execution_count": 8,
     "metadata": {},
     "output_type": "execute_result"
    }
   ],
   "source": [
    "a.split(' ')"
   ]
  },
  {
   "cell_type": "code",
   "execution_count": 9,
   "id": "107b0b8b",
   "metadata": {},
   "outputs": [
    {
     "data": {
      "text/plain": [
       "{'1': ['B', 'F', 'Q', 'Z', 'N', 'R', 'F'],\n",
       " '2': ['N', 'R'],\n",
       " '3': ['D'],\n",
       " '4': ['F', 'T', 'T', 'M', 'S'],\n",
       " '5': ['C', 'W', 'V', 'Q', 'P', 'P', 'Q', 'Q', 'D', 'N', 'Q'],\n",
       " '6': ['W', 'R'],\n",
       " '7': ['N', 'D', 'S', 'T', 'F', 'M', 'M', 'J', 'F', 'L', 'R'],\n",
       " '8': ['H', 'C', 'V', 'C'],\n",
       " '9': ['H', 'G', 'N', 'N', 'T', 'S', 'Q', 'H', 'W', 'V', 'F', 'M', 'D']}"
      ]
     },
     "execution_count": 9,
     "metadata": {},
     "output_type": "execute_result"
    }
   ],
   "source": [
    "ship_1 = ship\n",
    "for com in commands:\n",
    "    instruction = com.split(' ')\n",
    "    count_move = instruction[1]\n",
    "    move_from = instruction[3]\n",
    "    move_to = instruction[5]\n",
    "    \n",
    "    for i in range(int(count_move)):\n",
    "        ship_1[move_to].append(ship_1[move_from].pop())\n",
    "ship_1"
   ]
  },
  {
   "cell_type": "code",
   "execution_count": 10,
   "id": "01beee86",
   "metadata": {},
   "outputs": [
    {
     "data": {
      "text/plain": [
       "'FRDSQRRCD'"
      ]
     },
     "execution_count": 10,
     "metadata": {},
     "output_type": "execute_result"
    }
   ],
   "source": [
    "final = ''\n",
    "for stack in ship_1.keys():\n",
    "    final += ship_1[stack][-1]\n",
    "final"
   ]
  },
  {
   "cell_type": "markdown",
   "id": "9e4bc2a5",
   "metadata": {},
   "source": [
    "# Part 2"
   ]
  },
  {
   "cell_type": "code",
   "execution_count": 11,
   "id": "ac84eb97",
   "metadata": {},
   "outputs": [
    {
     "data": {
      "text/plain": [
       "{'1': ['F', 'D', 'F', 'C', 'D', 'V', 'H'],\n",
       " '2': ['Q', 'R'],\n",
       " '3': ['F'],\n",
       " '4': ['R', 'W', 'C', 'N', 'T'],\n",
       " '5': ['M', 'T', 'Q', 'J', 'H', 'S', 'B', 'W', 'M', 'P', 'Q'],\n",
       " '6': ['Q', 'V'],\n",
       " '7': ['N', 'S', 'Q', 'M', 'F', 'V', 'M', 'C', 'T', 'R', 'W'],\n",
       " '8': ['P', 'D', 'N', 'N'],\n",
       " '9': ['S', 'T', 'F', 'N', 'Z', 'G', 'R', 'F', 'H', 'Q', 'D', 'L', 'N']}"
      ]
     },
     "execution_count": 11,
     "metadata": {},
     "output_type": "execute_result"
    }
   ],
   "source": [
    "ship = {str(i):[] for i in range(1,10)}\n",
    "\n",
    "for level in int_load:\n",
    "    a = []\n",
    "    stack_num = 1\n",
    "    \n",
    "    for i in range(1,35,4):\n",
    "        item = level[i]\n",
    "        \n",
    "        if item != ' ':\n",
    "            ship[str(stack_num)].append(item)\n",
    "        stack_num += 1\n",
    "\n",
    "ship_2 = ship\n",
    "for com in commands:\n",
    "    instruction = com.split(' ')\n",
    "    count_move = instruction[1]\n",
    "    move_from = instruction[3]\n",
    "    move_to = instruction[5]\n",
    "    \n",
    "    grasp = []\n",
    "    for i in range(int(count_move)):\n",
    "        grasp.append(ship_2[move_from].pop())\n",
    "    \n",
    "    for i in range(int(count_move)):\n",
    "        ship_2[move_to].append(grasp.pop())\n",
    "        \n",
    "ship_2"
   ]
  },
  {
   "cell_type": "code",
   "execution_count": 12,
   "id": "28620fa8",
   "metadata": {},
   "outputs": [
    {
     "data": {
      "text/plain": [
       "'HRFTQVWNN'"
      ]
     },
     "execution_count": 12,
     "metadata": {},
     "output_type": "execute_result"
    }
   ],
   "source": [
    "final = ''\n",
    "for stack in ship_2.keys():\n",
    "    final += ship_2[stack][-1]\n",
    "final"
   ]
  },
  {
   "cell_type": "code",
   "execution_count": null,
   "id": "6d685c8e",
   "metadata": {},
   "outputs": [],
   "source": []
  }
 ],
 "metadata": {
  "kernelspec": {
   "display_name": "Python 3 (ipykernel)",
   "language": "python",
   "name": "python3"
  },
  "language_info": {
   "codemirror_mode": {
    "name": "ipython",
    "version": 3
   },
   "file_extension": ".py",
   "mimetype": "text/x-python",
   "name": "python",
   "nbconvert_exporter": "python",
   "pygments_lexer": "ipython3",
   "version": "3.10.8"
  }
 },
 "nbformat": 4,
 "nbformat_minor": 5
}
