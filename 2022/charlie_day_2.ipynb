{
 "cells": [
  {
   "cell_type": "markdown",
   "id": "a78c728c-9381-441a-9cf9-0a7cddcd2b2b",
   "metadata": {},
   "source": [
    "# Example data from problem statement"
   ]
  },
  {
   "cell_type": "code",
   "execution_count": null,
   "id": "bda75272-b3e3-4af1-84a6-cd9d53f8407d",
   "metadata": {},
   "outputs": [],
   "source": [
    "example_text = \"\"\"\n",
    "A Y\n",
    "B X\n",
    "C Z\n",
    "\"\"\"\n",
    "\n",
    "input_data = example_text.strip().split(\"\\n\")"
   ]
  },
  {
   "cell_type": "markdown",
   "id": "54c48179-4a29-4583-8d03-23ffdd8e6029",
   "metadata": {},
   "source": [
    "# Load problem data from file"
   ]
  },
  {
   "cell_type": "code",
   "execution_count": null,
   "id": "305e252a-cf4e-4f08-949c-1755ee938b6e",
   "metadata": {},
   "outputs": [],
   "source": [
    "with open(\"input_files/day_2_input.txt\", \"r\") as f:\n",
    "    input_data = f.readlines()"
   ]
  },
  {
   "cell_type": "markdown",
   "id": "6b6a14e8-ace0-41c2-a274-b94dd7202d0b",
   "metadata": {},
   "source": [
    "# Solution"
   ]
  },
  {
   "cell_type": "markdown",
   "id": "556467e0-ee4a-4cd1-8417-599a171e9269",
   "metadata": {},
   "source": [
    "## Part 1"
   ]
  },
  {
   "cell_type": "markdown",
   "id": "e4738fd1-bfa1-4e6b-bb87-95068d5e5760",
   "metadata": {
    "tags": []
   },
   "source": [
    "### Map strings to values"
   ]
  },
  {
   "cell_type": "code",
   "execution_count": null,
   "id": "a70e31dc-102c-4adb-907f-6f0134ddc02d",
   "metadata": {},
   "outputs": [],
   "source": [
    "score_map = {\n",
    "    \"A\": 1,  # rock\n",
    "    \"B\": 2,  # paper\n",
    "    \"C\": 3,  # scissors\n",
    "}\n",
    "\n",
    "equivalence = {\n",
    "    \"X\": \"A\",  # rock\n",
    "    \"Y\": \"B\",  # paper\n",
    "    \"Z\": \"C\",  # scissors\n",
    "}\n",
    "\n",
    "wins = {\n",
    "    \"X\": \"C\",  # rock beats scissors\n",
    "    \"Y\": \"A\",  # paper beats rock\n",
    "    \"Z\": \"B\",  # scissors beats paper\n",
    "}"
   ]
  },
  {
   "cell_type": "markdown",
   "id": "5237e620-9100-47aa-9272-12f9be78f9cf",
   "metadata": {},
   "source": [
    "### Determine score"
   ]
  },
  {
   "cell_type": "code",
   "execution_count": null,
   "id": "919ee365-7b0a-4dcf-8ad7-f82f9dacd2f4",
   "metadata": {},
   "outputs": [],
   "source": [
    "score = 0\n",
    "for item in input_data:\n",
    "    opp, plyr = item.strip().split()  # extract plays\n",
    "    score += score_map[equivalence[plyr]]  # score the player's choice\n",
    "    if wins[plyr] == opp:\n",
    "        score += 6  # win\n",
    "    elif equivalence[plyr] == opp:\n",
    "        score += 3  # draw\n",
    "    else:\n",
    "        pass  # loss\n",
    "print(score)"
   ]
  },
  {
   "cell_type": "markdown",
   "id": "73a4cb29-de67-412c-8daf-f18890922041",
   "metadata": {},
   "source": [
    "## Part 2"
   ]
  },
  {
   "cell_type": "code",
   "execution_count": null,
   "id": "49625bef-ab81-4c66-96d0-677900488456",
   "metadata": {},
   "outputs": [],
   "source": [
    "outcome_map = {\n",
    "    \"X\": 0,  # lose\n",
    "    \"Y\": 3,  # draw\n",
    "    \"Z\": 6,  # win\n",
    "}\n",
    "\n",
    "wins_map = {\n",
    "    \"A\": \"B\",\n",
    "    \"B\": \"C\",\n",
    "    \"C\": \"A\",\n",
    "}\n",
    "\n",
    "decoder = {\n",
    "    \"A\": \"rock\",\n",
    "    \"B\": \"paper\",\n",
    "    \"C\": \"scissors\",\n",
    "}\n",
    "\n",
    "loses_map = {wins_map[key]: key for key in wins_map.keys()}"
   ]
  },
  {
   "cell_type": "code",
   "execution_count": null,
   "id": "7ed6c3db-7f2b-44c0-b476-84b4e4c82c25",
   "metadata": {},
   "outputs": [],
   "source": [
    "part2_score = 0\n",
    "for item in input_data:\n",
    "    opponent, outcome = item.strip().split()\n",
    "    outcome_score = outcome_map[outcome]\n",
    "    part2_score += outcome_map[outcome]  # add the outcome value to the score\n",
    "    if outcome_score > 3:\n",
    "        move_score = score_map[wins_map[opponent]]\n",
    "        part2_score += move_score\n",
    "        # print(\"opponent played\", decoder[opponent], \"you should win and play\", decoder[wins_map[opponent]], \"scoring:\", move_score, \"+\", outcome_score, \"=\", move_score+outcome_score, \"total:\", part2_score)\n",
    "    elif outcome_score == 3:\n",
    "        move_score = score_map[opponent]\n",
    "        part2_score += move_score\n",
    "        # print(\"opponent played\", decoder[opponent], \"you should draw and play\", decoder[opponent], \"scoring:\", \"scoring:\", move_score, \"+\", outcome_score, \"=\", move_score+outcome_score, \"total:\", part2_score)\n",
    "    else:\n",
    "        move_score = score_map[loses_map[opponent]]\n",
    "        part2_score += move_score\n",
    "        # print(\"opponent played\", decoder[opponent], \"you should lose and play\", decoder[loses_map[opponent]], \"scoring:\", move_score, \"+\", outcome_score, \"=\", move_score+outcome_score, \"total:\", part2_score)\n",
    "print(part2_score)"
   ]
  }
 ],
 "metadata": {
  "kernelspec": {
   "display_name": "Python 3 (ipykernel)",
   "language": "python",
   "name": "python3"
  },
  "language_info": {
   "codemirror_mode": {
    "name": "ipython",
    "version": 3
   },
   "file_extension": ".py",
   "mimetype": "text/x-python",
   "name": "python",
   "nbconvert_exporter": "python",
   "pygments_lexer": "ipython3",
   "version": "3.11.0"
  }
 },
 "nbformat": 4,
 "nbformat_minor": 5
}
