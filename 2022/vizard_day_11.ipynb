{
 "cells": [
  {
   "cell_type": "code",
   "execution_count": 30,
   "metadata": {},
   "outputs": [],
   "source": [
    "inp=\"\"\"Monkey 0:\n",
    "  Starting items: 71, 86\n",
    "  Operation: new = old * 13\n",
    "  Test: divisible by 19\n",
    "    If true: throw to monkey 6\n",
    "    If false: throw to monkey 7\n",
    "\n",
    "Monkey 1:\n",
    "  Starting items: 66, 50, 90, 53, 88, 85\n",
    "  Operation: new = old + 3\n",
    "  Test: divisible by 2\n",
    "    If true: throw to monkey 5\n",
    "    If false: throw to monkey 4\n",
    "\n",
    "Monkey 2:\n",
    "  Starting items: 97, 54, 89, 62, 84, 80, 63\n",
    "  Operation: new = old + 6\n",
    "  Test: divisible by 13\n",
    "    If true: throw to monkey 4\n",
    "    If false: throw to monkey 1\n",
    "\n",
    "Monkey 3:\n",
    "  Starting items: 82, 97, 56, 92\n",
    "  Operation: new = old + 2\n",
    "  Test: divisible by 5\n",
    "    If true: throw to monkey 6\n",
    "    If false: throw to monkey 0\n",
    "\n",
    "Monkey 4:\n",
    "  Starting items: 50, 99, 67, 61, 86\n",
    "  Operation: new = old * old\n",
    "  Test: divisible by 7\n",
    "    If true: throw to monkey 5\n",
    "    If false: throw to monkey 3\n",
    "\n",
    "Monkey 5:\n",
    "  Starting items: 61, 66, 72, 55, 64, 53, 72, 63\n",
    "  Operation: new = old + 4\n",
    "  Test: divisible by 11\n",
    "    If true: throw to monkey 3\n",
    "    If false: throw to monkey 0\n",
    "\n",
    "Monkey 6:\n",
    "  Starting items: 59, 79, 63\n",
    "  Operation: new = old * 7\n",
    "  Test: divisible by 17\n",
    "    If true: throw to monkey 2\n",
    "    If false: throw to monkey 7\n",
    "\n",
    "Monkey 7:\n",
    "  Starting items: 55\n",
    "  Operation: new = old + 7\n",
    "  Test: divisible by 3\n",
    "    If true: throw to monkey 2\n",
    "    If false: throw to monkey 1\"\"\""
   ]
  },
  {
   "attachments": {},
   "cell_type": "markdown",
   "metadata": {},
   "source": [
    "# Build monkeys"
   ]
  },
  {
   "cell_type": "code",
   "execution_count": 39,
   "metadata": {},
   "outputs": [],
   "source": [
    "blocks = inp.split('\\n\\n')\n",
    "\n",
    "from dataclasses import dataclass\n",
    "\n",
    "@dataclass\n",
    "class Monkey:\n",
    "    items:list[int]\n",
    "    operation:str\n",
    "    test:int\n",
    "    true:int\n",
    "    false:int\n",
    "\n",
    "monkeys:list[Monkey] = []\n",
    "\n",
    "for item in blocks:\n",
    "    lines = item.split('\\n')\n",
    "    items = lines[1].split(':')[1]\n",
    "    items =[int(i) for i in items.split(',')]\n",
    "    operation = lines[2].split(':')[1][1:]\n",
    "    test = int(lines[3].split(\"by\")[1])\n",
    "    true=int(lines[4].split('monkey')[1])\n",
    "    false=int(lines[5].split('monkey')[1])\n",
    "    monkeys.append(Monkey(items=items,operation=operation,test=test,true=true,false=false))\n",
    "\n",
    "inspect_count =[0,0,0,0,0,0,0,0]"
   ]
  },
  {
   "attachments": {},
   "cell_type": "markdown",
   "metadata": {},
   "source": [
    "# Part 1"
   ]
  },
  {
   "cell_type": "code",
   "execution_count": 32,
   "metadata": {},
   "outputs": [
    {
     "name": "stdout",
     "output_type": "stream",
     "text": [
      "88208\n"
     ]
    }
   ],
   "source": [
    "for _ in range(20):\n",
    "    for index,monkey in enumerate(monkeys):\n",
    "        for  _ in range(len(monkey.items)):\n",
    "            inspect_count[index]+=1\n",
    "            old = monkey.items[0] \n",
    "            new = 0\n",
    "            exec(monkey.operation)\n",
    "            new//=3\n",
    "            if new%monkey.test==0:\n",
    "                monkeys[monkey.true].items.append(new)\n",
    "            else:\n",
    "                monkeys[monkey.false].items.append(new)\n",
    "            del monkeys[index].items[0]\n",
    "\n",
    "inspect_count.sort()\n",
    "print(inspect_count[-1] * inspect_count[-2])\n"
   ]
  },
  {
   "attachments": {},
   "cell_type": "markdown",
   "metadata": {},
   "source": [
    "# Part 2"
   ]
  },
  {
   "cell_type": "code",
   "execution_count": 40,
   "metadata": {},
   "outputs": [
    {
     "name": "stdout",
     "output_type": "stream",
     "text": [
      "21115867968\n"
     ]
    }
   ],
   "source": [
    "from math import lcm\n",
    "new_relief = lcm(*[m.test for m in monkeys])\n",
    "\n",
    "for _ in range(10000):\n",
    "    for index,monkey in enumerate(monkeys):\n",
    "        for  _ in range(len(monkey.items)):\n",
    "            inspect_count[index]+=1\n",
    "            old = monkey.items[0] \n",
    "            new = 0\n",
    "            exec(monkey.operation)\n",
    "            new%=new_relief\n",
    "            if new%monkey.test==0:\n",
    "                monkeys[monkey.true].items.append(new)\n",
    "            else:\n",
    "                monkeys[monkey.false].items.append(new)\n",
    "            del monkeys[index].items[0]\n",
    "\n",
    "inspect_count.sort()\n",
    "print(inspect_count[-1] * inspect_count[-2])\n"
   ]
  }
 ],
 "metadata": {
  "kernelspec": {
   "display_name": "aventofcode",
   "language": "python",
   "name": "python3"
  },
  "language_info": {
   "codemirror_mode": {
    "name": "ipython",
    "version": 3
   },
   "file_extension": ".py",
   "mimetype": "text/x-python",
   "name": "python",
   "nbconvert_exporter": "python",
   "pygments_lexer": "ipython3",
   "version": "3.11.0 (main, Oct 31 2022, 20:06:29) [GCC 9.4.0]"
  },
  "orig_nbformat": 4,
  "vscode": {
   "interpreter": {
    "hash": "216dcf3d6d332ffb5e6a40a33649c90bb5cbf19875abcdcced961c691d741e8d"
   }
  }
 },
 "nbformat": 4,
 "nbformat_minor": 2
}
